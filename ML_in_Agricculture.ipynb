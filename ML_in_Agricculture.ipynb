{
  "nbformat": 4,
  "nbformat_minor": 0,
  "metadata": {
    "colab": {
      "name": "ML in Agricculture",
      "provenance": []
    },
    "kernelspec": {
      "name": "python3",
      "display_name": "Python 3"
    }
  },
  "cells": [
    {
      "cell_type": "code",
      "metadata": {
        "id": "mjjkqBr5FxCv",
        "colab_type": "code",
        "colab": {
          "base_uri": "https://localhost:8080/",
          "height": 105
        },
        "outputId": "31ec3e14-cb85-40e7-b8b9-ad38a21853c3"
      },
      "source": [
        "# data analysis and wrangling\n",
        "import pandas as pd\n",
        "import numpy as np\n",
        "import random as rnd\n",
        "\n",
        "# visualization\n",
        "import seaborn as sns\n",
        "import matplotlib.pyplot as plt\n",
        "%matplotlib inline\n",
        "\n",
        "# machine learning\n",
        "from sklearn.linear_model import LogisticRegression\n",
        "from sklearn.linear_model import Perceptron\n",
        "from sklearn import tree\n",
        "from sklearn.naive_bayes import GaussianNB\n",
        "from sklearn.neighbors import KNeighborsClassifier\n",
        "from sklearn.ensemble import RandomForestClassifier\n",
        "from sklearn.ensemble import ExtraTreesClassifier\n",
        "from sklearn.ensemble import BaggingClassifier\n",
        "from sklearn.ensemble import AdaBoostClassifier\n",
        "from sklearn.ensemble import GradientBoostingClassifier\n",
        "from sklearn.ensemble import VotingClassifier\n",
        "from sklearn import svm\n",
        "import xgboost as xgb\n",
        "import lightgbm as lgb\n",
        "from mlxtend.classifier import StackingClassifier\n",
        "\n",
        "from sklearn.model_selection import cross_val_score\n",
        "from sklearn.model_selection import KFold\n",
        "from sklearn.metrics import confusion_matrix\n",
        "from sklearn.model_selection import train_test_split\n",
        "from sklearn.model_selection import GridSearchCV\n",
        "from sklearn.svm import SVC, LinearSVC\n"
      ],
      "execution_count": 1,
      "outputs": [
        {
          "output_type": "stream",
          "text": [
            "/usr/local/lib/python3.6/dist-packages/statsmodels/tools/_testing.py:19: FutureWarning: pandas.util.testing is deprecated. Use the functions in the public API at pandas.testing instead.\n",
            "  import pandas.util.testing as tm\n",
            "/usr/local/lib/python3.6/dist-packages/sklearn/externals/six.py:31: FutureWarning: The module is deprecated in version 0.21 and will be removed in version 0.23 since we've dropped support for Python 2.7. Please rely on the official version of six (https://pypi.org/project/six/).\n",
            "  \"(https://pypi.org/project/six/).\", FutureWarning)\n"
          ],
          "name": "stderr"
        }
      ]
    },
    {
      "cell_type": "code",
      "metadata": {
        "id": "83hW_79aIdrM",
        "colab_type": "code",
        "colab": {
          "base_uri": "https://localhost:8080/",
          "height": 224
        },
        "outputId": "ab27a495-a44e-47b6-cdb0-017255529735"
      },
      "source": [
        "train=pd.read_csv('/content/train_yaOffsB.csv')\n",
        "train.head()"
      ],
      "execution_count": 60,
      "outputs": [
        {
          "output_type": "execute_result",
          "data": {
            "text/html": [
              "<div>\n",
              "<style scoped>\n",
              "    .dataframe tbody tr th:only-of-type {\n",
              "        vertical-align: middle;\n",
              "    }\n",
              "\n",
              "    .dataframe tbody tr th {\n",
              "        vertical-align: top;\n",
              "    }\n",
              "\n",
              "    .dataframe thead th {\n",
              "        text-align: right;\n",
              "    }\n",
              "</style>\n",
              "<table border=\"1\" class=\"dataframe\">\n",
              "  <thead>\n",
              "    <tr style=\"text-align: right;\">\n",
              "      <th></th>\n",
              "      <th>ID</th>\n",
              "      <th>Estimated_Insects_Count</th>\n",
              "      <th>Crop_Type</th>\n",
              "      <th>Soil_Type</th>\n",
              "      <th>Pesticide_Use_Category</th>\n",
              "      <th>Number_Doses_Week</th>\n",
              "      <th>Number_Weeks_Used</th>\n",
              "      <th>Number_Weeks_Quit</th>\n",
              "      <th>Season</th>\n",
              "      <th>Crop_Damage</th>\n",
              "    </tr>\n",
              "  </thead>\n",
              "  <tbody>\n",
              "    <tr>\n",
              "      <th>0</th>\n",
              "      <td>F00000001</td>\n",
              "      <td>188</td>\n",
              "      <td>1</td>\n",
              "      <td>0</td>\n",
              "      <td>1</td>\n",
              "      <td>0</td>\n",
              "      <td>0.0</td>\n",
              "      <td>0</td>\n",
              "      <td>1</td>\n",
              "      <td>0</td>\n",
              "    </tr>\n",
              "    <tr>\n",
              "      <th>1</th>\n",
              "      <td>F00000003</td>\n",
              "      <td>209</td>\n",
              "      <td>1</td>\n",
              "      <td>0</td>\n",
              "      <td>1</td>\n",
              "      <td>0</td>\n",
              "      <td>0.0</td>\n",
              "      <td>0</td>\n",
              "      <td>2</td>\n",
              "      <td>1</td>\n",
              "    </tr>\n",
              "    <tr>\n",
              "      <th>2</th>\n",
              "      <td>F00000004</td>\n",
              "      <td>257</td>\n",
              "      <td>1</td>\n",
              "      <td>0</td>\n",
              "      <td>1</td>\n",
              "      <td>0</td>\n",
              "      <td>0.0</td>\n",
              "      <td>0</td>\n",
              "      <td>2</td>\n",
              "      <td>1</td>\n",
              "    </tr>\n",
              "    <tr>\n",
              "      <th>3</th>\n",
              "      <td>F00000005</td>\n",
              "      <td>257</td>\n",
              "      <td>1</td>\n",
              "      <td>1</td>\n",
              "      <td>1</td>\n",
              "      <td>0</td>\n",
              "      <td>0.0</td>\n",
              "      <td>0</td>\n",
              "      <td>2</td>\n",
              "      <td>1</td>\n",
              "    </tr>\n",
              "    <tr>\n",
              "      <th>4</th>\n",
              "      <td>F00000006</td>\n",
              "      <td>342</td>\n",
              "      <td>1</td>\n",
              "      <td>0</td>\n",
              "      <td>1</td>\n",
              "      <td>0</td>\n",
              "      <td>0.0</td>\n",
              "      <td>0</td>\n",
              "      <td>2</td>\n",
              "      <td>1</td>\n",
              "    </tr>\n",
              "  </tbody>\n",
              "</table>\n",
              "</div>"
            ],
            "text/plain": [
              "          ID  Estimated_Insects_Count  ...  Season  Crop_Damage\n",
              "0  F00000001                      188  ...       1            0\n",
              "1  F00000003                      209  ...       2            1\n",
              "2  F00000004                      257  ...       2            1\n",
              "3  F00000005                      257  ...       2            1\n",
              "4  F00000006                      342  ...       2            1\n",
              "\n",
              "[5 rows x 10 columns]"
            ]
          },
          "metadata": {
            "tags": []
          },
          "execution_count": 60
        }
      ]
    },
    {
      "cell_type": "code",
      "metadata": {
        "id": "-TTTM_dxIlpu",
        "colab_type": "code",
        "colab": {
          "base_uri": "https://localhost:8080/",
          "height": 204
        },
        "outputId": "4664ccbd-63e9-4fe1-f606-3d95e55243d5"
      },
      "source": [
        "test=pd.read_csv('/content/test_pFkWwen.csv')\n",
        "test.head()"
      ],
      "execution_count": 61,
      "outputs": [
        {
          "output_type": "execute_result",
          "data": {
            "text/html": [
              "<div>\n",
              "<style scoped>\n",
              "    .dataframe tbody tr th:only-of-type {\n",
              "        vertical-align: middle;\n",
              "    }\n",
              "\n",
              "    .dataframe tbody tr th {\n",
              "        vertical-align: top;\n",
              "    }\n",
              "\n",
              "    .dataframe thead th {\n",
              "        text-align: right;\n",
              "    }\n",
              "</style>\n",
              "<table border=\"1\" class=\"dataframe\">\n",
              "  <thead>\n",
              "    <tr style=\"text-align: right;\">\n",
              "      <th></th>\n",
              "      <th>ID</th>\n",
              "      <th>Estimated_Insects_Count</th>\n",
              "      <th>Crop_Type</th>\n",
              "      <th>Soil_Type</th>\n",
              "      <th>Pesticide_Use_Category</th>\n",
              "      <th>Number_Doses_Week</th>\n",
              "      <th>Number_Weeks_Used</th>\n",
              "      <th>Number_Weeks_Quit</th>\n",
              "      <th>Season</th>\n",
              "    </tr>\n",
              "  </thead>\n",
              "  <tbody>\n",
              "    <tr>\n",
              "      <th>0</th>\n",
              "      <td>F00000002</td>\n",
              "      <td>188</td>\n",
              "      <td>1</td>\n",
              "      <td>1</td>\n",
              "      <td>1</td>\n",
              "      <td>0</td>\n",
              "      <td>NaN</td>\n",
              "      <td>0</td>\n",
              "      <td>2</td>\n",
              "    </tr>\n",
              "    <tr>\n",
              "      <th>1</th>\n",
              "      <td>F00000007</td>\n",
              "      <td>410</td>\n",
              "      <td>1</td>\n",
              "      <td>1</td>\n",
              "      <td>1</td>\n",
              "      <td>0</td>\n",
              "      <td>0.0</td>\n",
              "      <td>0</td>\n",
              "      <td>2</td>\n",
              "    </tr>\n",
              "    <tr>\n",
              "      <th>2</th>\n",
              "      <td>F00000011</td>\n",
              "      <td>626</td>\n",
              "      <td>1</td>\n",
              "      <td>0</td>\n",
              "      <td>1</td>\n",
              "      <td>0</td>\n",
              "      <td>0.0</td>\n",
              "      <td>0</td>\n",
              "      <td>2</td>\n",
              "    </tr>\n",
              "    <tr>\n",
              "      <th>3</th>\n",
              "      <td>F00000013</td>\n",
              "      <td>731</td>\n",
              "      <td>1</td>\n",
              "      <td>0</td>\n",
              "      <td>1</td>\n",
              "      <td>0</td>\n",
              "      <td>0.0</td>\n",
              "      <td>0</td>\n",
              "      <td>2</td>\n",
              "    </tr>\n",
              "    <tr>\n",
              "      <th>4</th>\n",
              "      <td>F00000014</td>\n",
              "      <td>789</td>\n",
              "      <td>0</td>\n",
              "      <td>0</td>\n",
              "      <td>1</td>\n",
              "      <td>0</td>\n",
              "      <td>0.0</td>\n",
              "      <td>0</td>\n",
              "      <td>1</td>\n",
              "    </tr>\n",
              "  </tbody>\n",
              "</table>\n",
              "</div>"
            ],
            "text/plain": [
              "          ID  Estimated_Insects_Count  ...  Number_Weeks_Quit  Season\n",
              "0  F00000002                      188  ...                  0       2\n",
              "1  F00000007                      410  ...                  0       2\n",
              "2  F00000011                      626  ...                  0       2\n",
              "3  F00000013                      731  ...                  0       2\n",
              "4  F00000014                      789  ...                  0       1\n",
              "\n",
              "[5 rows x 9 columns]"
            ]
          },
          "metadata": {
            "tags": []
          },
          "execution_count": 61
        }
      ]
    },
    {
      "cell_type": "code",
      "metadata": {
        "id": "h8dQXqibrt14",
        "colab_type": "code",
        "colab": {}
      },
      "source": [
        "train.fillna(-1,inplace=True)\n",
        "test.fillna(-1,inplace=True)"
      ],
      "execution_count": 75,
      "outputs": []
    },
    {
      "cell_type": "code",
      "metadata": {
        "id": "CrOoceMRI2q1",
        "colab_type": "code",
        "colab": {
          "base_uri": "https://localhost:8080/",
          "height": 224
        },
        "outputId": "1f069ced-a592-4f59-9ac7-053ebe507b72"
      },
      "source": [
        "train['source']='train'\n",
        "test['source']='test'\n",
        "data=pd.concat([train,test],ignore_index=True,sort=False)\n",
        "data.head()"
      ],
      "execution_count": 76,
      "outputs": [
        {
          "output_type": "execute_result",
          "data": {
            "text/html": [
              "<div>\n",
              "<style scoped>\n",
              "    .dataframe tbody tr th:only-of-type {\n",
              "        vertical-align: middle;\n",
              "    }\n",
              "\n",
              "    .dataframe tbody tr th {\n",
              "        vertical-align: top;\n",
              "    }\n",
              "\n",
              "    .dataframe thead th {\n",
              "        text-align: right;\n",
              "    }\n",
              "</style>\n",
              "<table border=\"1\" class=\"dataframe\">\n",
              "  <thead>\n",
              "    <tr style=\"text-align: right;\">\n",
              "      <th></th>\n",
              "      <th>ID</th>\n",
              "      <th>Estimated_Insects_Count</th>\n",
              "      <th>Crop_Type</th>\n",
              "      <th>Soil_Type</th>\n",
              "      <th>Pesticide_Use_Category</th>\n",
              "      <th>Number_Doses_Week</th>\n",
              "      <th>Number_Weeks_Used</th>\n",
              "      <th>Number_Weeks_Quit</th>\n",
              "      <th>Season</th>\n",
              "      <th>Crop_Damage</th>\n",
              "      <th>source</th>\n",
              "    </tr>\n",
              "  </thead>\n",
              "  <tbody>\n",
              "    <tr>\n",
              "      <th>0</th>\n",
              "      <td>F00000001</td>\n",
              "      <td>188</td>\n",
              "      <td>1</td>\n",
              "      <td>0</td>\n",
              "      <td>1</td>\n",
              "      <td>0</td>\n",
              "      <td>0.0</td>\n",
              "      <td>0</td>\n",
              "      <td>1</td>\n",
              "      <td>0.0</td>\n",
              "      <td>train</td>\n",
              "    </tr>\n",
              "    <tr>\n",
              "      <th>1</th>\n",
              "      <td>F00000003</td>\n",
              "      <td>209</td>\n",
              "      <td>1</td>\n",
              "      <td>0</td>\n",
              "      <td>1</td>\n",
              "      <td>0</td>\n",
              "      <td>0.0</td>\n",
              "      <td>0</td>\n",
              "      <td>2</td>\n",
              "      <td>1.0</td>\n",
              "      <td>train</td>\n",
              "    </tr>\n",
              "    <tr>\n",
              "      <th>2</th>\n",
              "      <td>F00000004</td>\n",
              "      <td>257</td>\n",
              "      <td>1</td>\n",
              "      <td>0</td>\n",
              "      <td>1</td>\n",
              "      <td>0</td>\n",
              "      <td>0.0</td>\n",
              "      <td>0</td>\n",
              "      <td>2</td>\n",
              "      <td>1.0</td>\n",
              "      <td>train</td>\n",
              "    </tr>\n",
              "    <tr>\n",
              "      <th>3</th>\n",
              "      <td>F00000005</td>\n",
              "      <td>257</td>\n",
              "      <td>1</td>\n",
              "      <td>1</td>\n",
              "      <td>1</td>\n",
              "      <td>0</td>\n",
              "      <td>0.0</td>\n",
              "      <td>0</td>\n",
              "      <td>2</td>\n",
              "      <td>1.0</td>\n",
              "      <td>train</td>\n",
              "    </tr>\n",
              "    <tr>\n",
              "      <th>4</th>\n",
              "      <td>F00000006</td>\n",
              "      <td>342</td>\n",
              "      <td>1</td>\n",
              "      <td>0</td>\n",
              "      <td>1</td>\n",
              "      <td>0</td>\n",
              "      <td>0.0</td>\n",
              "      <td>0</td>\n",
              "      <td>2</td>\n",
              "      <td>1.0</td>\n",
              "      <td>train</td>\n",
              "    </tr>\n",
              "  </tbody>\n",
              "</table>\n",
              "</div>"
            ],
            "text/plain": [
              "          ID  Estimated_Insects_Count  Crop_Type  ...  Season  Crop_Damage  source\n",
              "0  F00000001                      188          1  ...       1          0.0   train\n",
              "1  F00000003                      209          1  ...       2          1.0   train\n",
              "2  F00000004                      257          1  ...       2          1.0   train\n",
              "3  F00000005                      257          1  ...       2          1.0   train\n",
              "4  F00000006                      342          1  ...       2          1.0   train\n",
              "\n",
              "[5 rows x 11 columns]"
            ]
          },
          "metadata": {
            "tags": []
          },
          "execution_count": 76
        }
      ]
    },
    {
      "cell_type": "code",
      "metadata": {
        "id": "P9UHEcUpL0Dq",
        "colab_type": "code",
        "colab": {}
      },
      "source": [
        ""
      ],
      "execution_count": null,
      "outputs": []
    },
    {
      "cell_type": "code",
      "metadata": {
        "id": "B-rrHaiK5mw1",
        "colab_type": "code",
        "colab": {}
      },
      "source": [
        ""
      ],
      "execution_count": null,
      "outputs": []
    },
    {
      "cell_type": "markdown",
      "metadata": {
        "id": "Ev7VbeYCL35n",
        "colab_type": "text"
      },
      "source": [
        "**2. INITIAL EXPLORATION**"
      ]
    },
    {
      "cell_type": "code",
      "metadata": {
        "id": "6SCF9_feL7Mx",
        "colab_type": "code",
        "colab": {
          "base_uri": "https://localhost:8080/",
          "height": 68
        },
        "outputId": "3e57ad99-491b-4817-b421-068f9fd77fa3"
      },
      "source": [
        "print(train.columns.values)"
      ],
      "execution_count": null,
      "outputs": [
        {
          "output_type": "stream",
          "text": [
            "['ID' 'Estimated_Insects_Count' 'Crop_Type' 'Soil_Type'\n",
            " 'Pesticide_Use_Category' 'Number_Doses_Week' 'Number_Weeks_Used'\n",
            " 'Number_Weeks_Quit' 'Season' 'Crop_Damage' 'source']\n"
          ],
          "name": "stdout"
        }
      ]
    },
    {
      "cell_type": "code",
      "metadata": {
        "id": "dox2mdAoMCNh",
        "colab_type": "code",
        "colab": {
          "base_uri": "https://localhost:8080/",
          "height": 221
        },
        "outputId": "94d566e4-2aa6-40a7-c18d-9a92cd39d4cb"
      },
      "source": [
        "data.isnull().sum()"
      ],
      "execution_count": null,
      "outputs": [
        {
          "output_type": "execute_result",
          "data": {
            "text/plain": [
              "ID                             0\n",
              "Estimated_Insects_Count        0\n",
              "Crop_Type                      0\n",
              "Soil_Type                      0\n",
              "Pesticide_Use_Category         0\n",
              "Number_Doses_Week              0\n",
              "Number_Weeks_Used          14893\n",
              "Number_Weeks_Quit              0\n",
              "Season                         0\n",
              "Crop_Damage                59310\n",
              "source                         0\n",
              "dtype: int64"
            ]
          },
          "metadata": {
            "tags": []
          },
          "execution_count": 129
        }
      ]
    },
    {
      "cell_type": "code",
      "metadata": {
        "id": "G8QZU7YKfAsk",
        "colab_type": "code",
        "colab": {
          "base_uri": "https://localhost:8080/",
          "height": 204
        },
        "outputId": "b8080182-9218-43cf-db20-1768505439e2"
      },
      "source": [
        "train.isnull().sum()"
      ],
      "execution_count": null,
      "outputs": [
        {
          "output_type": "execute_result",
          "data": {
            "text/plain": [
              "ID                            0\n",
              "Estimated_Insects_Count       0\n",
              "Crop_Type                     0\n",
              "Soil_Type                     0\n",
              "Pesticide_Use_Category        0\n",
              "Number_Doses_Week             0\n",
              "Number_Weeks_Used          9000\n",
              "Number_Weeks_Quit             0\n",
              "Season                        0\n",
              "Crop_Damage                   0\n",
              "dtype: int64"
            ]
          },
          "metadata": {
            "tags": []
          },
          "execution_count": 82
        }
      ]
    },
    {
      "cell_type": "code",
      "metadata": {
        "id": "v0uUojrqMOG5",
        "colab_type": "code",
        "colab": {
          "base_uri": "https://localhost:8080/",
          "height": 255
        },
        "outputId": "34fd9e7a-334f-4785-b9e7-929c0fe4c5e7"
      },
      "source": [
        "print(data[data['Number_Weeks_Used'].isnull()])"
      ],
      "execution_count": null,
      "outputs": [
        {
          "output_type": "stream",
          "text": [
            "               ID  Estimated_Insects_Count  ...  Crop_Damage  source\n",
            "5       F00000008                      448  ...          1.0   train\n",
            "6       F00000009                      448  ...          1.0   train\n",
            "10      F00000021                     1212  ...          0.0   train\n",
            "17      F00000037                     2401  ...          1.0   train\n",
            "35      F00000076                      257  ...          0.0   train\n",
            "...           ...                      ...  ...          ...     ...\n",
            "148128  F00155852                     2138  ...          NaN    test\n",
            "148131  F00155861                     2267  ...          NaN    test\n",
            "148138  F00155876                     2401  ...          NaN    test\n",
            "148140  F00155885                     2542  ...          NaN    test\n",
            "148165  F00155941                     3702  ...          NaN    test\n",
            "\n",
            "[14893 rows x 11 columns]\n"
          ],
          "name": "stdout"
        }
      ]
    },
    {
      "cell_type": "code",
      "metadata": {
        "id": "O-4jn3EvO-gj",
        "colab_type": "code",
        "colab": {
          "base_uri": "https://localhost:8080/",
          "height": 306
        },
        "outputId": "7534f543-f1e7-44f1-8464-a6c7cb51bc07"
      },
      "source": [
        "train.info()"
      ],
      "execution_count": null,
      "outputs": [
        {
          "output_type": "stream",
          "text": [
            "<class 'pandas.core.frame.DataFrame'>\n",
            "RangeIndex: 88858 entries, 0 to 88857\n",
            "Data columns (total 10 columns):\n",
            " #   Column                   Non-Null Count  Dtype  \n",
            "---  ------                   --------------  -----  \n",
            " 0   ID                       88858 non-null  object \n",
            " 1   Estimated_Insects_Count  88858 non-null  int64  \n",
            " 2   Crop_Type                88858 non-null  int64  \n",
            " 3   Soil_Type                88858 non-null  int64  \n",
            " 4   Pesticide_Use_Category   88858 non-null  int64  \n",
            " 5   Number_Doses_Week        88858 non-null  int64  \n",
            " 6   Number_Weeks_Used        79858 non-null  float64\n",
            " 7   Number_Weeks_Quit        88858 non-null  int64  \n",
            " 8   Season                   88858 non-null  int64  \n",
            " 9   Crop_Damage              88858 non-null  int64  \n",
            "dtypes: float64(1), int64(8), object(1)\n",
            "memory usage: 6.8+ MB\n"
          ],
          "name": "stdout"
        }
      ]
    },
    {
      "cell_type": "code",
      "metadata": {
        "id": "T6QDNp_KPLge",
        "colab_type": "code",
        "colab": {
          "base_uri": "https://localhost:8080/",
          "height": 289
        },
        "outputId": "5f233916-0827-478f-b4cc-3e3dca1107ec"
      },
      "source": [
        "test.info()"
      ],
      "execution_count": null,
      "outputs": [
        {
          "output_type": "stream",
          "text": [
            "<class 'pandas.core.frame.DataFrame'>\n",
            "RangeIndex: 59310 entries, 0 to 59309\n",
            "Data columns (total 9 columns):\n",
            " #   Column                   Non-Null Count  Dtype  \n",
            "---  ------                   --------------  -----  \n",
            " 0   ID                       59310 non-null  object \n",
            " 1   Estimated_Insects_Count  59310 non-null  int64  \n",
            " 2   Crop_Type                59310 non-null  int64  \n",
            " 3   Soil_Type                59310 non-null  int64  \n",
            " 4   Pesticide_Use_Category   59310 non-null  int64  \n",
            " 5   Number_Doses_Week        59310 non-null  int64  \n",
            " 6   Number_Weeks_Used        53417 non-null  float64\n",
            " 7   Number_Weeks_Quit        59310 non-null  int64  \n",
            " 8   Season                   59310 non-null  int64  \n",
            "dtypes: float64(1), int64(7), object(1)\n",
            "memory usage: 4.1+ MB\n"
          ],
          "name": "stdout"
        }
      ]
    },
    {
      "cell_type": "code",
      "metadata": {
        "id": "Yi-i-43FMxS3",
        "colab_type": "code",
        "colab": {
          "base_uri": "https://localhost:8080/",
          "height": 1000
        },
        "outputId": "83082322-00ac-43a8-bd53-cdcd9676bd92"
      },
      "source": [
        "# Let's check the frequency distribution of the feature\n",
        "for col in train:\n",
        "  freq=train[col].value_counts()\n",
        "  print('\\nThe frequency distribution of '+col+ \":\")\n",
        "  print(freq)  "
      ],
      "execution_count": null,
      "outputs": [
        {
          "output_type": "stream",
          "text": [
            "\n",
            "The frequency distribution of ID:\n",
            "F00113597    1\n",
            "F00085009    1\n",
            "F00134850    1\n",
            "F00069184    1\n",
            "F00147049    1\n",
            "            ..\n",
            "F00044093    1\n",
            "F00101713    1\n",
            "F00114833    1\n",
            "F00135178    1\n",
            "F00112080    1\n",
            "Name: ID, Length: 88858, dtype: int64\n",
            "\n",
            "The frequency distribution of Estimated_Insects_Count:\n",
            "1212    3438\n",
            "1132    3370\n",
            "1478    3358\n",
            "1385    3309\n",
            "1056    3235\n",
            "        ... \n",
            "3896     134\n",
            "3515     123\n",
            "4097     113\n",
            "231       89\n",
            "169       63\n",
            "Name: Estimated_Insects_Count, Length: 71, dtype: int64\n",
            "\n",
            "The frequency distribution of Crop_Type:\n",
            "0    63589\n",
            "1    25269\n",
            "Name: Crop_Type, dtype: int64\n",
            "\n",
            "The frequency distribution of Soil_Type:\n",
            "0    48124\n",
            "1    40734\n",
            "Name: Soil_Type, dtype: int64\n",
            "\n",
            "The frequency distribution of Pesticide_Use_Category:\n",
            "2    63709\n",
            "3    24312\n",
            "1      837\n",
            "Name: Pesticide_Use_Category, dtype: int64\n",
            "\n",
            "The frequency distribution of Number_Doses_Week:\n",
            "20    22589\n",
            "40    12298\n",
            "10    12111\n",
            "30    10438\n",
            "15     8178\n",
            "5      5520\n",
            "25     4890\n",
            "60     4367\n",
            "50     3361\n",
            "35     1832\n",
            "45      936\n",
            "0       837\n",
            "80      672\n",
            "70      303\n",
            "55      277\n",
            "90       83\n",
            "65       64\n",
            "75       61\n",
            "95       30\n",
            "85       11\n",
            "Name: Number_Doses_Week, dtype: int64\n",
            "\n",
            "The frequency distribution of Number_Weeks_Used:\n",
            "20.0    3878\n",
            "30.0    3765\n",
            "25.0    3120\n",
            "40.0    2707\n",
            "15.0    2486\n",
            "        ... \n",
            "63.0      50\n",
            "64.0      44\n",
            "65.0      31\n",
            "66.0      17\n",
            "67.0       8\n",
            "Name: Number_Weeks_Used, Length: 64, dtype: int64\n",
            "\n",
            "The frequency distribution of Number_Weeks_Quit:\n",
            "0     27274\n",
            "10     2893\n",
            "5      2831\n",
            "2      2743\n",
            "12     2701\n",
            "15     2668\n",
            "1      2620\n",
            "14     2610\n",
            "6      2584\n",
            "3      2578\n",
            "4      2528\n",
            "13     2485\n",
            "7      2418\n",
            "8      2294\n",
            "20     2209\n",
            "16     2108\n",
            "11     2090\n",
            "18     2030\n",
            "17     2018\n",
            "9      1897\n",
            "19     1841\n",
            "21     1436\n",
            "22     1414\n",
            "23     1166\n",
            "25     1109\n",
            "24     1054\n",
            "26      894\n",
            "27      820\n",
            "28      808\n",
            "30      751\n",
            "29      719\n",
            "31      530\n",
            "32      505\n",
            "33      370\n",
            "34      345\n",
            "35      301\n",
            "36      248\n",
            "37      221\n",
            "38      162\n",
            "40      133\n",
            "39      109\n",
            "41       86\n",
            "42       75\n",
            "43       51\n",
            "44       38\n",
            "45       30\n",
            "46       22\n",
            "47       21\n",
            "48       10\n",
            "50        6\n",
            "49        4\n",
            "Name: Number_Weeks_Quit, dtype: int64\n",
            "\n",
            "The frequency distribution of Season:\n",
            "2    44210\n",
            "1    26902\n",
            "3    17746\n",
            "Name: Season, dtype: int64\n",
            "\n",
            "The frequency distribution of Crop_Damage:\n",
            "0    74238\n",
            "1    12307\n",
            "2     2313\n",
            "Name: Crop_Damage, dtype: int64\n",
            "\n",
            "The frequency distribution of source:\n",
            "train    88858\n",
            "Name: source, dtype: int64\n"
          ],
          "name": "stdout"
        }
      ]
    },
    {
      "cell_type": "code",
      "metadata": {
        "id": "MYpEOoP3M8qH",
        "colab_type": "code",
        "colab": {
          "base_uri": "https://localhost:8080/",
          "height": 119
        },
        "outputId": "5597e90f-a0c1-49a0-8e44-da9ec1cea2e5"
      },
      "source": [
        "#Now lets see how much crop damage took place\n",
        "cat0=train[train['Crop_Damage']==0]\n",
        "cat1=train[train['Crop_Damage']==1]\n",
        "cat2=train[train['Crop_Damage']==2]\n",
        "cat0p=(len(cat0)/len(train))*100\n",
        "print('Alive crop')\n",
        "print(cat0p)\n",
        "cat1p=(len(cat1)/len(train))*100\n",
        "print('Damage due to other cause')\n",
        "print(cat1p)\n",
        "cat2p=(len(cat2)/len(train))*100\n",
        "print('Damage due to pesticides')\n",
        "print(cat2p)\n"
      ],
      "execution_count": null,
      "outputs": [
        {
          "output_type": "stream",
          "text": [
            "Alive crop\n",
            "83.54678250692116\n",
            "Damage due to other cause\n",
            "13.850187940309258\n",
            "Damage due to pesticides\n",
            "2.6030295527695877\n"
          ],
          "name": "stdout"
        }
      ]
    },
    {
      "cell_type": "code",
      "metadata": {
        "id": "MBf-xCN1OLOV",
        "colab_type": "code",
        "colab": {
          "base_uri": "https://localhost:8080/",
          "height": 432
        },
        "outputId": "4025223e-d6de-4587-93e6-47fd36ec1842"
      },
      "source": [
        "# Lets go through the features one by one by using matplotlib and barplots\n",
        "plt.figure(figsize=[12,10])\n",
        "#plt.subplot(331)\n",
        "\n",
        "#sns.distplot(surv['Age'].dropna().values, bins=range(0, 81, 1), kde=False, color='blue')\n",
        "#sns.distplot(notsurv['Age'].dropna().values, bins=range(0, 81, 1), kde=False, color='red',\n",
        "            #axlabel='Age')\n",
        "plt.subplot(332)\n",
        "sns.barplot('Crop_Damage', 'Crop_Type', data=train)\n",
        "plt.subplot(333)\n",
        "sns.barplot('Soil_Type', 'Crop_Damage', data=train)\n",
        "plt.subplot(334)\n",
        "sns.barplot('Pesticide_Use_Category', 'Crop_Damage', data=train)\n",
        "plt.subplot(335)\n",
        "sns.barplot('Season', 'Crop_Damage', data=train)"
      ],
      "execution_count": null,
      "outputs": [
        {
          "output_type": "execute_result",
          "data": {
            "text/plain": [
              "<matplotlib.axes._subplots.AxesSubplot at 0x7fcfd21cf550>"
            ]
          },
          "metadata": {
            "tags": []
          },
          "execution_count": 36
        },
        {
          "output_type": "display_data",
          "data": {
            "image/png": "[encoded data removed]",
            "text/plain": [
              "<Figure size 864x720 with 4 Axes>"
            ]
          },
          "metadata": {
            "tags": [],
            "needs_background": "light"
          }
        }
      ]
    },
    {
      "cell_type": "code",
      "metadata": {
        "id": "M4fjo6LbXX9h",
        "colab_type": "code",
        "colab": {
          "base_uri": "https://localhost:8080/",
          "height": 282
        },
        "outputId": "706fccf7-162f-4854-c164-52eb95dbf109"
      },
      "source": [
        "sns.distplot(np.log10(cat0['Number_Doses_Week'].dropna().values+1), kde=False, color='blue')"
      ],
      "execution_count": null,
      "outputs": [
        {
          "output_type": "execute_result",
          "data": {
            "text/plain": [
              "<matplotlib.axes._subplots.AxesSubplot at 0x7fcfd2692da0>"
            ]
          },
          "metadata": {
            "tags": []
          },
          "execution_count": 32
        },
        {
          "output_type": "display_data",
          "data": {
            "image/png": "[encoded data removed]",
            "text/plain": [
              "<Figure size 432x288 with 1 Axes>"
            ]
          },
          "metadata": {
            "tags": [],
            "needs_background": "light"
          }
        }
      ]
    },
    {
      "cell_type": "code",
      "metadata": {
        "id": "5C3V9JXxX1UW",
        "colab_type": "code",
        "colab": {
          "base_uri": "https://localhost:8080/",
          "height": 282
        },
        "outputId": "8608e60b-ac16-407d-b0ce-d49d48a01f0d"
      },
      "source": [
        "sns.distplot(np.log10(cat1['Number_Doses_Week'].dropna().values+1), kde=False, color='blue')"
      ],
      "execution_count": null,
      "outputs": [
        {
          "output_type": "execute_result",
          "data": {
            "text/plain": [
              "<matplotlib.axes._subplots.AxesSubplot at 0x7fcfd24bd208>"
            ]
          },
          "metadata": {
            "tags": []
          },
          "execution_count": 33
        },
        {
          "output_type": "display_data",
          "data": {
            "image/png": "[encoded data removed]",
            "text/plain": [
              "<Figure size 432x288 with 1 Axes>"
            ]
          },
          "metadata": {
            "tags": [],
            "needs_background": "light"
          }
        }
      ]
    },
    {
      "cell_type": "code",
      "metadata": {
        "id": "taTZ94srYG4D",
        "colab_type": "code",
        "colab": {
          "base_uri": "https://localhost:8080/",
          "height": 282
        },
        "outputId": "7dbd0455-b6ce-4369-96e1-b5123aaf2eb4"
      },
      "source": [
        "sns.distplot(np.log10(cat2['Number_Doses_Week'].dropna().values+1), kde=False, color='blue')"
      ],
      "execution_count": null,
      "outputs": [
        {
          "output_type": "execute_result",
          "data": {
            "text/plain": [
              "<matplotlib.axes._subplots.AxesSubplot at 0x7fcfd23bc940>"
            ]
          },
          "metadata": {
            "tags": []
          },
          "execution_count": 34
        },
        {
          "output_type": "display_data",
          "data": {
            "image/png": "[encoded data removed]",
            "text/plain": [
              "<Figure size 432x288 with 1 Axes>"
            ]
          },
          "metadata": {
            "tags": [],
            "needs_background": "light"
          }
        }
      ]
    },
    {
      "cell_type": "code",
      "metadata": {
        "id": "hzZOciD8U6EQ",
        "colab_type": "code",
        "colab": {
          "base_uri": "https://localhost:8080/",
          "height": 142
        },
        "outputId": "3edc77ef-c282-40e3-ee24-585d9e89c268"
      },
      "source": [
        "pd.crosstab(train['Crop_Type'],train['Crop_Damage'],normalize='index')"
      ],
      "execution_count": null,
      "outputs": [
        {
          "output_type": "execute_result",
          "data": {
            "text/html": [
              "<div>\n",
              "<style scoped>\n",
              "    .dataframe tbody tr th:only-of-type {\n",
              "        vertical-align: middle;\n",
              "    }\n",
              "\n",
              "    .dataframe tbody tr th {\n",
              "        vertical-align: top;\n",
              "    }\n",
              "\n",
              "    .dataframe thead th {\n",
              "        text-align: right;\n",
              "    }\n",
              "</style>\n",
              "<table border=\"1\" class=\"dataframe\">\n",
              "  <thead>\n",
              "    <tr style=\"text-align: right;\">\n",
              "      <th>Crop_Damage</th>\n",
              "      <th>0</th>\n",
              "      <th>1</th>\n",
              "      <th>2</th>\n",
              "    </tr>\n",
              "    <tr>\n",
              "      <th>Crop_Type</th>\n",
              "      <th></th>\n",
              "      <th></th>\n",
              "      <th></th>\n",
              "    </tr>\n",
              "  </thead>\n",
              "  <tbody>\n",
              "    <tr>\n",
              "      <th>0</th>\n",
              "      <td>0.829986</td>\n",
              "      <td>0.144742</td>\n",
              "      <td>0.025272</td>\n",
              "    </tr>\n",
              "    <tr>\n",
              "      <th>1</th>\n",
              "      <td>0.849262</td>\n",
              "      <td>0.122799</td>\n",
              "      <td>0.027939</td>\n",
              "    </tr>\n",
              "  </tbody>\n",
              "</table>\n",
              "</div>"
            ],
            "text/plain": [
              "Crop_Damage         0         1         2\n",
              "Crop_Type                                \n",
              "0            0.829986  0.144742  0.025272\n",
              "1            0.849262  0.122799  0.027939"
            ]
          },
          "metadata": {
            "tags": []
          },
          "execution_count": 23
        }
      ]
    },
    {
      "cell_type": "code",
      "metadata": {
        "id": "WO9g9wGWV4mG",
        "colab_type": "code",
        "colab": {
          "base_uri": "https://localhost:8080/",
          "height": 142
        },
        "outputId": "7bc8c96f-b484-4ae0-ddaa-c745820309a9"
      },
      "source": [
        "pd.crosstab(train['Soil_Type'],train['Crop_Damage'],normalize='index')"
      ],
      "execution_count": null,
      "outputs": [
        {
          "output_type": "execute_result",
          "data": {
            "text/html": [
              "<div>\n",
              "<style scoped>\n",
              "    .dataframe tbody tr th:only-of-type {\n",
              "        vertical-align: middle;\n",
              "    }\n",
              "\n",
              "    .dataframe tbody tr th {\n",
              "        vertical-align: top;\n",
              "    }\n",
              "\n",
              "    .dataframe thead th {\n",
              "        text-align: right;\n",
              "    }\n",
              "</style>\n",
              "<table border=\"1\" class=\"dataframe\">\n",
              "  <thead>\n",
              "    <tr style=\"text-align: right;\">\n",
              "      <th>Crop_Damage</th>\n",
              "      <th>0</th>\n",
              "      <th>1</th>\n",
              "      <th>2</th>\n",
              "    </tr>\n",
              "    <tr>\n",
              "      <th>Soil_Type</th>\n",
              "      <th></th>\n",
              "      <th></th>\n",
              "      <th></th>\n",
              "    </tr>\n",
              "  </thead>\n",
              "  <tbody>\n",
              "    <tr>\n",
              "      <th>0</th>\n",
              "      <td>0.827882</td>\n",
              "      <td>0.144481</td>\n",
              "      <td>0.027637</td>\n",
              "    </tr>\n",
              "    <tr>\n",
              "      <th>1</th>\n",
              "      <td>0.844430</td>\n",
              "      <td>0.131438</td>\n",
              "      <td>0.024132</td>\n",
              "    </tr>\n",
              "  </tbody>\n",
              "</table>\n",
              "</div>"
            ],
            "text/plain": [
              "Crop_Damage         0         1         2\n",
              "Soil_Type                                \n",
              "0            0.827882  0.144481  0.027637\n",
              "1            0.844430  0.131438  0.024132"
            ]
          },
          "metadata": {
            "tags": []
          },
          "execution_count": 24
        }
      ]
    },
    {
      "cell_type": "code",
      "metadata": {
        "id": "2yZlZLrZWISm",
        "colab_type": "code",
        "colab": {
          "base_uri": "https://localhost:8080/",
          "height": 173
        },
        "outputId": "4f7a7d6e-1067-4ff9-9dfc-c7336c3c959a"
      },
      "source": [
        "pd.crosstab(train['Pesticide_Use_Category'],train['Crop_Damage'],normalize='index')"
      ],
      "execution_count": null,
      "outputs": [
        {
          "output_type": "execute_result",
          "data": {
            "text/html": [
              "<div>\n",
              "<style scoped>\n",
              "    .dataframe tbody tr th:only-of-type {\n",
              "        vertical-align: middle;\n",
              "    }\n",
              "\n",
              "    .dataframe tbody tr th {\n",
              "        vertical-align: top;\n",
              "    }\n",
              "\n",
              "    .dataframe thead th {\n",
              "        text-align: right;\n",
              "    }\n",
              "</style>\n",
              "<table border=\"1\" class=\"dataframe\">\n",
              "  <thead>\n",
              "    <tr style=\"text-align: right;\">\n",
              "      <th>Crop_Damage</th>\n",
              "      <th>0</th>\n",
              "      <th>1</th>\n",
              "      <th>2</th>\n",
              "    </tr>\n",
              "    <tr>\n",
              "      <th>Pesticide_Use_Category</th>\n",
              "      <th></th>\n",
              "      <th></th>\n",
              "      <th></th>\n",
              "    </tr>\n",
              "  </thead>\n",
              "  <tbody>\n",
              "    <tr>\n",
              "      <th>1</th>\n",
              "      <td>0.140980</td>\n",
              "      <td>0.661888</td>\n",
              "      <td>0.197133</td>\n",
              "    </tr>\n",
              "    <tr>\n",
              "      <th>2</th>\n",
              "      <td>0.894034</td>\n",
              "      <td>0.095308</td>\n",
              "      <td>0.010658</td>\n",
              "    </tr>\n",
              "    <tr>\n",
              "      <th>3</th>\n",
              "      <td>0.705907</td>\n",
              "      <td>0.233671</td>\n",
              "      <td>0.060423</td>\n",
              "    </tr>\n",
              "  </tbody>\n",
              "</table>\n",
              "</div>"
            ],
            "text/plain": [
              "Crop_Damage                    0         1         2\n",
              "Pesticide_Use_Category                              \n",
              "1                       0.140980  0.661888  0.197133\n",
              "2                       0.894034  0.095308  0.010658\n",
              "3                       0.705907  0.233671  0.060423"
            ]
          },
          "metadata": {
            "tags": []
          },
          "execution_count": 27
        }
      ]
    },
    {
      "cell_type": "code",
      "metadata": {
        "id": "0HbjZrpaWs2k",
        "colab_type": "code",
        "colab": {
          "base_uri": "https://localhost:8080/",
          "height": 173
        },
        "outputId": "44b473cf-e393-4bc9-f384-afe910429eab"
      },
      "source": [
        "pd.crosstab(train['Season'],train['Crop_Damage'],normalize='index')"
      ],
      "execution_count": null,
      "outputs": [
        {
          "output_type": "execute_result",
          "data": {
            "text/html": [
              "<div>\n",
              "<style scoped>\n",
              "    .dataframe tbody tr th:only-of-type {\n",
              "        vertical-align: middle;\n",
              "    }\n",
              "\n",
              "    .dataframe tbody tr th {\n",
              "        vertical-align: top;\n",
              "    }\n",
              "\n",
              "    .dataframe thead th {\n",
              "        text-align: right;\n",
              "    }\n",
              "</style>\n",
              "<table border=\"1\" class=\"dataframe\">\n",
              "  <thead>\n",
              "    <tr style=\"text-align: right;\">\n",
              "      <th>Crop_Damage</th>\n",
              "      <th>0</th>\n",
              "      <th>1</th>\n",
              "      <th>2</th>\n",
              "    </tr>\n",
              "    <tr>\n",
              "      <th>Season</th>\n",
              "      <th></th>\n",
              "      <th></th>\n",
              "      <th></th>\n",
              "    </tr>\n",
              "  </thead>\n",
              "  <tbody>\n",
              "    <tr>\n",
              "      <th>1</th>\n",
              "      <td>0.836109</td>\n",
              "      <td>0.139320</td>\n",
              "      <td>0.024571</td>\n",
              "    </tr>\n",
              "    <tr>\n",
              "      <th>2</th>\n",
              "      <td>0.834223</td>\n",
              "      <td>0.138317</td>\n",
              "      <td>0.027460</td>\n",
              "    </tr>\n",
              "    <tr>\n",
              "      <th>3</th>\n",
              "      <td>0.837597</td>\n",
              "      <td>0.137721</td>\n",
              "      <td>0.024682</td>\n",
              "    </tr>\n",
              "  </tbody>\n",
              "</table>\n",
              "</div>"
            ],
            "text/plain": [
              "Crop_Damage         0         1         2\n",
              "Season                                   \n",
              "1            0.836109  0.139320  0.024571\n",
              "2            0.834223  0.138317  0.027460\n",
              "3            0.837597  0.137721  0.024682"
            ]
          },
          "metadata": {
            "tags": []
          },
          "execution_count": 29
        }
      ]
    },
    {
      "cell_type": "code",
      "metadata": {
        "id": "VTG17a1uW82T",
        "colab_type": "code",
        "colab": {
          "base_uri": "https://localhost:8080/",
          "height": 700
        },
        "outputId": "53b78c0d-b26d-4604-fcfe-eb6ed7b207dc"
      },
      "source": [
        "pd.crosstab(train['Number_Doses_Week'],train['Crop_Damage'],normalize='index')"
      ],
      "execution_count": null,
      "outputs": [
        {
          "output_type": "execute_result",
          "data": {
            "text/html": [
              "<div>\n",
              "<style scoped>\n",
              "    .dataframe tbody tr th:only-of-type {\n",
              "        vertical-align: middle;\n",
              "    }\n",
              "\n",
              "    .dataframe tbody tr th {\n",
              "        vertical-align: top;\n",
              "    }\n",
              "\n",
              "    .dataframe thead th {\n",
              "        text-align: right;\n",
              "    }\n",
              "</style>\n",
              "<table border=\"1\" class=\"dataframe\">\n",
              "  <thead>\n",
              "    <tr style=\"text-align: right;\">\n",
              "      <th>Crop_Damage</th>\n",
              "      <th>0</th>\n",
              "      <th>1</th>\n",
              "      <th>2</th>\n",
              "    </tr>\n",
              "    <tr>\n",
              "      <th>Number_Doses_Week</th>\n",
              "      <th></th>\n",
              "      <th></th>\n",
              "      <th></th>\n",
              "    </tr>\n",
              "  </thead>\n",
              "  <tbody>\n",
              "    <tr>\n",
              "      <th>0</th>\n",
              "      <td>0.140980</td>\n",
              "      <td>0.661888</td>\n",
              "      <td>0.197133</td>\n",
              "    </tr>\n",
              "    <tr>\n",
              "      <th>5</th>\n",
              "      <td>0.907065</td>\n",
              "      <td>0.085688</td>\n",
              "      <td>0.007246</td>\n",
              "    </tr>\n",
              "    <tr>\n",
              "      <th>10</th>\n",
              "      <td>0.860540</td>\n",
              "      <td>0.127322</td>\n",
              "      <td>0.012138</td>\n",
              "    </tr>\n",
              "    <tr>\n",
              "      <th>15</th>\n",
              "      <td>0.869161</td>\n",
              "      <td>0.116165</td>\n",
              "      <td>0.014674</td>\n",
              "    </tr>\n",
              "    <tr>\n",
              "      <th>20</th>\n",
              "      <td>0.787507</td>\n",
              "      <td>0.178937</td>\n",
              "      <td>0.033556</td>\n",
              "    </tr>\n",
              "    <tr>\n",
              "      <th>25</th>\n",
              "      <td>0.881391</td>\n",
              "      <td>0.095706</td>\n",
              "      <td>0.022904</td>\n",
              "    </tr>\n",
              "    <tr>\n",
              "      <th>30</th>\n",
              "      <td>0.834259</td>\n",
              "      <td>0.134030</td>\n",
              "      <td>0.031711</td>\n",
              "    </tr>\n",
              "    <tr>\n",
              "      <th>35</th>\n",
              "      <td>0.899017</td>\n",
              "      <td>0.084607</td>\n",
              "      <td>0.016376</td>\n",
              "    </tr>\n",
              "    <tr>\n",
              "      <th>40</th>\n",
              "      <td>0.820621</td>\n",
              "      <td>0.146121</td>\n",
              "      <td>0.033257</td>\n",
              "    </tr>\n",
              "    <tr>\n",
              "      <th>45</th>\n",
              "      <td>0.927350</td>\n",
              "      <td>0.058761</td>\n",
              "      <td>0.013889</td>\n",
              "    </tr>\n",
              "    <tr>\n",
              "      <th>50</th>\n",
              "      <td>0.891104</td>\n",
              "      <td>0.089259</td>\n",
              "      <td>0.019637</td>\n",
              "    </tr>\n",
              "    <tr>\n",
              "      <th>55</th>\n",
              "      <td>0.902527</td>\n",
              "      <td>0.090253</td>\n",
              "      <td>0.007220</td>\n",
              "    </tr>\n",
              "    <tr>\n",
              "      <th>60</th>\n",
              "      <td>0.878406</td>\n",
              "      <td>0.099611</td>\n",
              "      <td>0.021983</td>\n",
              "    </tr>\n",
              "    <tr>\n",
              "      <th>65</th>\n",
              "      <td>0.890625</td>\n",
              "      <td>0.109375</td>\n",
              "      <td>0.000000</td>\n",
              "    </tr>\n",
              "    <tr>\n",
              "      <th>70</th>\n",
              "      <td>0.907591</td>\n",
              "      <td>0.069307</td>\n",
              "      <td>0.023102</td>\n",
              "    </tr>\n",
              "    <tr>\n",
              "      <th>75</th>\n",
              "      <td>0.918033</td>\n",
              "      <td>0.081967</td>\n",
              "      <td>0.000000</td>\n",
              "    </tr>\n",
              "    <tr>\n",
              "      <th>80</th>\n",
              "      <td>0.877976</td>\n",
              "      <td>0.101190</td>\n",
              "      <td>0.020833</td>\n",
              "    </tr>\n",
              "    <tr>\n",
              "      <th>85</th>\n",
              "      <td>0.818182</td>\n",
              "      <td>0.090909</td>\n",
              "      <td>0.090909</td>\n",
              "    </tr>\n",
              "    <tr>\n",
              "      <th>90</th>\n",
              "      <td>0.879518</td>\n",
              "      <td>0.096386</td>\n",
              "      <td>0.024096</td>\n",
              "    </tr>\n",
              "    <tr>\n",
              "      <th>95</th>\n",
              "      <td>0.933333</td>\n",
              "      <td>0.066667</td>\n",
              "      <td>0.000000</td>\n",
              "    </tr>\n",
              "  </tbody>\n",
              "</table>\n",
              "</div>"
            ],
            "text/plain": [
              "Crop_Damage               0         1         2\n",
              "Number_Doses_Week                              \n",
              "0                  0.140980  0.661888  0.197133\n",
              "5                  0.907065  0.085688  0.007246\n",
              "10                 0.860540  0.127322  0.012138\n",
              "15                 0.869161  0.116165  0.014674\n",
              "20                 0.787507  0.178937  0.033556\n",
              "25                 0.881391  0.095706  0.022904\n",
              "30                 0.834259  0.134030  0.031711\n",
              "35                 0.899017  0.084607  0.016376\n",
              "40                 0.820621  0.146121  0.033257\n",
              "45                 0.927350  0.058761  0.013889\n",
              "50                 0.891104  0.089259  0.019637\n",
              "55                 0.902527  0.090253  0.007220\n",
              "60                 0.878406  0.099611  0.021983\n",
              "65                 0.890625  0.109375  0.000000\n",
              "70                 0.907591  0.069307  0.023102\n",
              "75                 0.918033  0.081967  0.000000\n",
              "80                 0.877976  0.101190  0.020833\n",
              "85                 0.818182  0.090909  0.090909\n",
              "90                 0.879518  0.096386  0.024096\n",
              "95                 0.933333  0.066667  0.000000"
            ]
          },
          "metadata": {
            "tags": []
          },
          "execution_count": 35
        }
      ]
    },
    {
      "cell_type": "code",
      "metadata": {
        "id": "vphEW1e0YQj3",
        "colab_type": "code",
        "colab": {
          "base_uri": "https://localhost:8080/",
          "height": 450
        },
        "outputId": "ea5ccb3e-ab91-43e2-f6ea-3c78cba8cd4d"
      },
      "source": [
        "pd.crosstab(train['Number_Weeks_Used'],train['Crop_Damage'],normalize='index')"
      ],
      "execution_count": null,
      "outputs": [
        {
          "output_type": "execute_result",
          "data": {
            "text/html": [
              "<div>\n",
              "<style scoped>\n",
              "    .dataframe tbody tr th:only-of-type {\n",
              "        vertical-align: middle;\n",
              "    }\n",
              "\n",
              "    .dataframe tbody tr th {\n",
              "        vertical-align: top;\n",
              "    }\n",
              "\n",
              "    .dataframe thead th {\n",
              "        text-align: right;\n",
              "    }\n",
              "</style>\n",
              "<table border=\"1\" class=\"dataframe\">\n",
              "  <thead>\n",
              "    <tr style=\"text-align: right;\">\n",
              "      <th>Crop_Damage</th>\n",
              "      <th>0</th>\n",
              "      <th>1</th>\n",
              "      <th>2</th>\n",
              "    </tr>\n",
              "    <tr>\n",
              "      <th>Number_Weeks_Used</th>\n",
              "      <th></th>\n",
              "      <th></th>\n",
              "      <th></th>\n",
              "    </tr>\n",
              "  </thead>\n",
              "  <tbody>\n",
              "    <tr>\n",
              "      <th>0.0</th>\n",
              "      <td>0.144595</td>\n",
              "      <td>0.668919</td>\n",
              "      <td>0.186486</td>\n",
              "    </tr>\n",
              "    <tr>\n",
              "      <th>5.0</th>\n",
              "      <td>0.942308</td>\n",
              "      <td>0.057692</td>\n",
              "      <td>0.000000</td>\n",
              "    </tr>\n",
              "    <tr>\n",
              "      <th>6.0</th>\n",
              "      <td>0.959569</td>\n",
              "      <td>0.040431</td>\n",
              "      <td>0.000000</td>\n",
              "    </tr>\n",
              "    <tr>\n",
              "      <th>7.0</th>\n",
              "      <td>0.959330</td>\n",
              "      <td>0.038278</td>\n",
              "      <td>0.002392</td>\n",
              "    </tr>\n",
              "    <tr>\n",
              "      <th>8.0</th>\n",
              "      <td>0.944544</td>\n",
              "      <td>0.053667</td>\n",
              "      <td>0.001789</td>\n",
              "    </tr>\n",
              "    <tr>\n",
              "      <th>...</th>\n",
              "      <td>...</td>\n",
              "      <td>...</td>\n",
              "      <td>...</td>\n",
              "    </tr>\n",
              "    <tr>\n",
              "      <th>63.0</th>\n",
              "      <td>0.620000</td>\n",
              "      <td>0.340000</td>\n",
              "      <td>0.040000</td>\n",
              "    </tr>\n",
              "    <tr>\n",
              "      <th>64.0</th>\n",
              "      <td>0.590909</td>\n",
              "      <td>0.340909</td>\n",
              "      <td>0.068182</td>\n",
              "    </tr>\n",
              "    <tr>\n",
              "      <th>65.0</th>\n",
              "      <td>0.387097</td>\n",
              "      <td>0.483871</td>\n",
              "      <td>0.129032</td>\n",
              "    </tr>\n",
              "    <tr>\n",
              "      <th>66.0</th>\n",
              "      <td>0.647059</td>\n",
              "      <td>0.235294</td>\n",
              "      <td>0.117647</td>\n",
              "    </tr>\n",
              "    <tr>\n",
              "      <th>67.0</th>\n",
              "      <td>0.625000</td>\n",
              "      <td>0.375000</td>\n",
              "      <td>0.000000</td>\n",
              "    </tr>\n",
              "  </tbody>\n",
              "</table>\n",
              "<p>64 rows × 3 columns</p>\n",
              "</div>"
            ],
            "text/plain": [
              "Crop_Damage               0         1         2\n",
              "Number_Weeks_Used                              \n",
              "0.0                0.144595  0.668919  0.186486\n",
              "5.0                0.942308  0.057692  0.000000\n",
              "6.0                0.959569  0.040431  0.000000\n",
              "7.0                0.959330  0.038278  0.002392\n",
              "8.0                0.944544  0.053667  0.001789\n",
              "...                     ...       ...       ...\n",
              "63.0               0.620000  0.340000  0.040000\n",
              "64.0               0.590909  0.340909  0.068182\n",
              "65.0               0.387097  0.483871  0.129032\n",
              "66.0               0.647059  0.235294  0.117647\n",
              "67.0               0.625000  0.375000  0.000000\n",
              "\n",
              "[64 rows x 3 columns]"
            ]
          },
          "metadata": {
            "tags": []
          },
          "execution_count": 42
        }
      ]
    },
    {
      "cell_type": "code",
      "metadata": {
        "id": "R_-Cf4sXaNFF",
        "colab_type": "code",
        "colab": {
          "base_uri": "https://localhost:8080/",
          "height": 1000
        },
        "outputId": "0f8cc7f0-5a1f-410e-f5fe-1b73a0b28bc9"
      },
      "source": [
        "pd.crosstab(train['Number_Weeks_Quit'],train['Crop_Damage'],normalize='index')"
      ],
      "execution_count": null,
      "outputs": [
        {
          "output_type": "execute_result",
          "data": {
            "text/html": [
              "<div>\n",
              "<style scoped>\n",
              "    .dataframe tbody tr th:only-of-type {\n",
              "        vertical-align: middle;\n",
              "    }\n",
              "\n",
              "    .dataframe tbody tr th {\n",
              "        vertical-align: top;\n",
              "    }\n",
              "\n",
              "    .dataframe thead th {\n",
              "        text-align: right;\n",
              "    }\n",
              "</style>\n",
              "<table border=\"1\" class=\"dataframe\">\n",
              "  <thead>\n",
              "    <tr style=\"text-align: right;\">\n",
              "      <th>Crop_Damage</th>\n",
              "      <th>0</th>\n",
              "      <th>1</th>\n",
              "      <th>2</th>\n",
              "    </tr>\n",
              "    <tr>\n",
              "      <th>Number_Weeks_Quit</th>\n",
              "      <th></th>\n",
              "      <th></th>\n",
              "      <th></th>\n",
              "    </tr>\n",
              "  </thead>\n",
              "  <tbody>\n",
              "    <tr>\n",
              "      <th>0</th>\n",
              "      <td>0.709797</td>\n",
              "      <td>0.229999</td>\n",
              "      <td>0.060204</td>\n",
              "    </tr>\n",
              "    <tr>\n",
              "      <th>1</th>\n",
              "      <td>0.950382</td>\n",
              "      <td>0.043130</td>\n",
              "      <td>0.006489</td>\n",
              "    </tr>\n",
              "    <tr>\n",
              "      <th>2</th>\n",
              "      <td>0.924171</td>\n",
              "      <td>0.063799</td>\n",
              "      <td>0.012031</td>\n",
              "    </tr>\n",
              "    <tr>\n",
              "      <th>3</th>\n",
              "      <td>0.903801</td>\n",
              "      <td>0.081458</td>\n",
              "      <td>0.014740</td>\n",
              "    </tr>\n",
              "    <tr>\n",
              "      <th>4</th>\n",
              "      <td>0.904272</td>\n",
              "      <td>0.081487</td>\n",
              "      <td>0.014241</td>\n",
              "    </tr>\n",
              "    <tr>\n",
              "      <th>5</th>\n",
              "      <td>0.881667</td>\n",
              "      <td>0.098905</td>\n",
              "      <td>0.019428</td>\n",
              "    </tr>\n",
              "    <tr>\n",
              "      <th>6</th>\n",
              "      <td>0.889319</td>\n",
              "      <td>0.095201</td>\n",
              "      <td>0.015480</td>\n",
              "    </tr>\n",
              "    <tr>\n",
              "      <th>7</th>\n",
              "      <td>0.887924</td>\n",
              "      <td>0.096774</td>\n",
              "      <td>0.015302</td>\n",
              "    </tr>\n",
              "    <tr>\n",
              "      <th>8</th>\n",
              "      <td>0.892764</td>\n",
              "      <td>0.093723</td>\n",
              "      <td>0.013514</td>\n",
              "    </tr>\n",
              "    <tr>\n",
              "      <th>9</th>\n",
              "      <td>0.888772</td>\n",
              "      <td>0.100685</td>\n",
              "      <td>0.010543</td>\n",
              "    </tr>\n",
              "    <tr>\n",
              "      <th>10</th>\n",
              "      <td>0.880055</td>\n",
              "      <td>0.104044</td>\n",
              "      <td>0.015900</td>\n",
              "    </tr>\n",
              "    <tr>\n",
              "      <th>11</th>\n",
              "      <td>0.895215</td>\n",
              "      <td>0.091388</td>\n",
              "      <td>0.013397</td>\n",
              "    </tr>\n",
              "    <tr>\n",
              "      <th>12</th>\n",
              "      <td>0.896335</td>\n",
              "      <td>0.090337</td>\n",
              "      <td>0.013328</td>\n",
              "    </tr>\n",
              "    <tr>\n",
              "      <th>13</th>\n",
              "      <td>0.900201</td>\n",
              "      <td>0.088129</td>\n",
              "      <td>0.011670</td>\n",
              "    </tr>\n",
              "    <tr>\n",
              "      <th>14</th>\n",
              "      <td>0.888123</td>\n",
              "      <td>0.102682</td>\n",
              "      <td>0.009195</td>\n",
              "    </tr>\n",
              "    <tr>\n",
              "      <th>15</th>\n",
              "      <td>0.885307</td>\n",
              "      <td>0.101949</td>\n",
              "      <td>0.012744</td>\n",
              "    </tr>\n",
              "    <tr>\n",
              "      <th>16</th>\n",
              "      <td>0.895161</td>\n",
              "      <td>0.096300</td>\n",
              "      <td>0.008539</td>\n",
              "    </tr>\n",
              "    <tr>\n",
              "      <th>17</th>\n",
              "      <td>0.897423</td>\n",
              "      <td>0.095639</td>\n",
              "      <td>0.006938</td>\n",
              "    </tr>\n",
              "    <tr>\n",
              "      <th>18</th>\n",
              "      <td>0.909360</td>\n",
              "      <td>0.084729</td>\n",
              "      <td>0.005911</td>\n",
              "    </tr>\n",
              "    <tr>\n",
              "      <th>19</th>\n",
              "      <td>0.877241</td>\n",
              "      <td>0.110809</td>\n",
              "      <td>0.011950</td>\n",
              "    </tr>\n",
              "    <tr>\n",
              "      <th>20</th>\n",
              "      <td>0.882300</td>\n",
              "      <td>0.105478</td>\n",
              "      <td>0.012223</td>\n",
              "    </tr>\n",
              "    <tr>\n",
              "      <th>21</th>\n",
              "      <td>0.887883</td>\n",
              "      <td>0.103064</td>\n",
              "      <td>0.009053</td>\n",
              "    </tr>\n",
              "    <tr>\n",
              "      <th>22</th>\n",
              "      <td>0.891796</td>\n",
              "      <td>0.100424</td>\n",
              "      <td>0.007779</td>\n",
              "    </tr>\n",
              "    <tr>\n",
              "      <th>23</th>\n",
              "      <td>0.882504</td>\n",
              "      <td>0.113208</td>\n",
              "      <td>0.004288</td>\n",
              "    </tr>\n",
              "    <tr>\n",
              "      <th>24</th>\n",
              "      <td>0.891841</td>\n",
              "      <td>0.102467</td>\n",
              "      <td>0.005693</td>\n",
              "    </tr>\n",
              "    <tr>\n",
              "      <th>25</th>\n",
              "      <td>0.865645</td>\n",
              "      <td>0.131650</td>\n",
              "      <td>0.002705</td>\n",
              "    </tr>\n",
              "    <tr>\n",
              "      <th>26</th>\n",
              "      <td>0.865772</td>\n",
              "      <td>0.128635</td>\n",
              "      <td>0.005593</td>\n",
              "    </tr>\n",
              "    <tr>\n",
              "      <th>27</th>\n",
              "      <td>0.897561</td>\n",
              "      <td>0.098780</td>\n",
              "      <td>0.003659</td>\n",
              "    </tr>\n",
              "    <tr>\n",
              "      <th>28</th>\n",
              "      <td>0.863861</td>\n",
              "      <td>0.133663</td>\n",
              "      <td>0.002475</td>\n",
              "    </tr>\n",
              "    <tr>\n",
              "      <th>29</th>\n",
              "      <td>0.867872</td>\n",
              "      <td>0.125174</td>\n",
              "      <td>0.006954</td>\n",
              "    </tr>\n",
              "    <tr>\n",
              "      <th>30</th>\n",
              "      <td>0.870839</td>\n",
              "      <td>0.122503</td>\n",
              "      <td>0.006658</td>\n",
              "    </tr>\n",
              "    <tr>\n",
              "      <th>31</th>\n",
              "      <td>0.850943</td>\n",
              "      <td>0.145283</td>\n",
              "      <td>0.003774</td>\n",
              "    </tr>\n",
              "    <tr>\n",
              "      <th>32</th>\n",
              "      <td>0.881188</td>\n",
              "      <td>0.114851</td>\n",
              "      <td>0.003960</td>\n",
              "    </tr>\n",
              "    <tr>\n",
              "      <th>33</th>\n",
              "      <td>0.867568</td>\n",
              "      <td>0.124324</td>\n",
              "      <td>0.008108</td>\n",
              "    </tr>\n",
              "    <tr>\n",
              "      <th>34</th>\n",
              "      <td>0.846377</td>\n",
              "      <td>0.142029</td>\n",
              "      <td>0.011594</td>\n",
              "    </tr>\n",
              "    <tr>\n",
              "      <th>35</th>\n",
              "      <td>0.833887</td>\n",
              "      <td>0.162791</td>\n",
              "      <td>0.003322</td>\n",
              "    </tr>\n",
              "    <tr>\n",
              "      <th>36</th>\n",
              "      <td>0.895161</td>\n",
              "      <td>0.104839</td>\n",
              "      <td>0.000000</td>\n",
              "    </tr>\n",
              "    <tr>\n",
              "      <th>37</th>\n",
              "      <td>0.805430</td>\n",
              "      <td>0.194570</td>\n",
              "      <td>0.000000</td>\n",
              "    </tr>\n",
              "    <tr>\n",
              "      <th>38</th>\n",
              "      <td>0.839506</td>\n",
              "      <td>0.154321</td>\n",
              "      <td>0.006173</td>\n",
              "    </tr>\n",
              "    <tr>\n",
              "      <th>39</th>\n",
              "      <td>0.844037</td>\n",
              "      <td>0.155963</td>\n",
              "      <td>0.000000</td>\n",
              "    </tr>\n",
              "    <tr>\n",
              "      <th>40</th>\n",
              "      <td>0.774436</td>\n",
              "      <td>0.218045</td>\n",
              "      <td>0.007519</td>\n",
              "    </tr>\n",
              "    <tr>\n",
              "      <th>41</th>\n",
              "      <td>0.767442</td>\n",
              "      <td>0.232558</td>\n",
              "      <td>0.000000</td>\n",
              "    </tr>\n",
              "    <tr>\n",
              "      <th>42</th>\n",
              "      <td>0.800000</td>\n",
              "      <td>0.200000</td>\n",
              "      <td>0.000000</td>\n",
              "    </tr>\n",
              "    <tr>\n",
              "      <th>43</th>\n",
              "      <td>0.843137</td>\n",
              "      <td>0.156863</td>\n",
              "      <td>0.000000</td>\n",
              "    </tr>\n",
              "    <tr>\n",
              "      <th>44</th>\n",
              "      <td>0.763158</td>\n",
              "      <td>0.210526</td>\n",
              "      <td>0.026316</td>\n",
              "    </tr>\n",
              "    <tr>\n",
              "      <th>45</th>\n",
              "      <td>0.766667</td>\n",
              "      <td>0.233333</td>\n",
              "      <td>0.000000</td>\n",
              "    </tr>\n",
              "    <tr>\n",
              "      <th>46</th>\n",
              "      <td>0.545455</td>\n",
              "      <td>0.454545</td>\n",
              "      <td>0.000000</td>\n",
              "    </tr>\n",
              "    <tr>\n",
              "      <th>47</th>\n",
              "      <td>0.666667</td>\n",
              "      <td>0.285714</td>\n",
              "      <td>0.047619</td>\n",
              "    </tr>\n",
              "    <tr>\n",
              "      <th>48</th>\n",
              "      <td>0.400000</td>\n",
              "      <td>0.600000</td>\n",
              "      <td>0.000000</td>\n",
              "    </tr>\n",
              "    <tr>\n",
              "      <th>49</th>\n",
              "      <td>0.500000</td>\n",
              "      <td>0.500000</td>\n",
              "      <td>0.000000</td>\n",
              "    </tr>\n",
              "    <tr>\n",
              "      <th>50</th>\n",
              "      <td>0.833333</td>\n",
              "      <td>0.166667</td>\n",
              "      <td>0.000000</td>\n",
              "    </tr>\n",
              "  </tbody>\n",
              "</table>\n",
              "</div>"
            ],
            "text/plain": [
              "Crop_Damage               0         1         2\n",
              "Number_Weeks_Quit                              \n",
              "0                  0.709797  0.229999  0.060204\n",
              "1                  0.950382  0.043130  0.006489\n",
              "2                  0.924171  0.063799  0.012031\n",
              "3                  0.903801  0.081458  0.014740\n",
              "4                  0.904272  0.081487  0.014241\n",
              "5                  0.881667  0.098905  0.019428\n",
              "6                  0.889319  0.095201  0.015480\n",
              "7                  0.887924  0.096774  0.015302\n",
              "8                  0.892764  0.093723  0.013514\n",
              "9                  0.888772  0.100685  0.010543\n",
              "10                 0.880055  0.104044  0.015900\n",
              "11                 0.895215  0.091388  0.013397\n",
              "12                 0.896335  0.090337  0.013328\n",
              "13                 0.900201  0.088129  0.011670\n",
              "14                 0.888123  0.102682  0.009195\n",
              "15                 0.885307  0.101949  0.012744\n",
              "16                 0.895161  0.096300  0.008539\n",
              "17                 0.897423  0.095639  0.006938\n",
              "18                 0.909360  0.084729  0.005911\n",
              "19                 0.877241  0.110809  0.011950\n",
              "20                 0.882300  0.105478  0.012223\n",
              "21                 0.887883  0.103064  0.009053\n",
              "22                 0.891796  0.100424  0.007779\n",
              "23                 0.882504  0.113208  0.004288\n",
              "24                 0.891841  0.102467  0.005693\n",
              "25                 0.865645  0.131650  0.002705\n",
              "26                 0.865772  0.128635  0.005593\n",
              "27                 0.897561  0.098780  0.003659\n",
              "28                 0.863861  0.133663  0.002475\n",
              "29                 0.867872  0.125174  0.006954\n",
              "30                 0.870839  0.122503  0.006658\n",
              "31                 0.850943  0.145283  0.003774\n",
              "32                 0.881188  0.114851  0.003960\n",
              "33                 0.867568  0.124324  0.008108\n",
              "34                 0.846377  0.142029  0.011594\n",
              "35                 0.833887  0.162791  0.003322\n",
              "36                 0.895161  0.104839  0.000000\n",
              "37                 0.805430  0.194570  0.000000\n",
              "38                 0.839506  0.154321  0.006173\n",
              "39                 0.844037  0.155963  0.000000\n",
              "40                 0.774436  0.218045  0.007519\n",
              "41                 0.767442  0.232558  0.000000\n",
              "42                 0.800000  0.200000  0.000000\n",
              "43                 0.843137  0.156863  0.000000\n",
              "44                 0.763158  0.210526  0.026316\n",
              "45                 0.766667  0.233333  0.000000\n",
              "46                 0.545455  0.454545  0.000000\n",
              "47                 0.666667  0.285714  0.047619\n",
              "48                 0.400000  0.600000  0.000000\n",
              "49                 0.500000  0.500000  0.000000\n",
              "50                 0.833333  0.166667  0.000000"
            ]
          },
          "metadata": {
            "tags": []
          },
          "execution_count": 43
        }
      ]
    },
    {
      "cell_type": "code",
      "metadata": {
        "id": "Jn8TgkCvahf4",
        "colab_type": "code",
        "colab": {
          "base_uri": "https://localhost:8080/",
          "height": 450
        },
        "outputId": "8fcbf4bf-5f86-467e-deeb-2fc96a221a49"
      },
      "source": [
        "pd.crosstab(train['Estimated_Insects_Count'],train['Crop_Damage'],normalize='index')"
      ],
      "execution_count": null,
      "outputs": [
        {
          "output_type": "execute_result",
          "data": {
            "text/html": [
              "<div>\n",
              "<style scoped>\n",
              "    .dataframe tbody tr th:only-of-type {\n",
              "        vertical-align: middle;\n",
              "    }\n",
              "\n",
              "    .dataframe tbody tr th {\n",
              "        vertical-align: top;\n",
              "    }\n",
              "\n",
              "    .dataframe thead th {\n",
              "        text-align: right;\n",
              "    }\n",
              "</style>\n",
              "<table border=\"1\" class=\"dataframe\">\n",
              "  <thead>\n",
              "    <tr style=\"text-align: right;\">\n",
              "      <th>Crop_Damage</th>\n",
              "      <th>0</th>\n",
              "      <th>1</th>\n",
              "      <th>2</th>\n",
              "    </tr>\n",
              "    <tr>\n",
              "      <th>Estimated_Insects_Count</th>\n",
              "      <th></th>\n",
              "      <th></th>\n",
              "      <th></th>\n",
              "    </tr>\n",
              "  </thead>\n",
              "  <tbody>\n",
              "    <tr>\n",
              "      <th>150</th>\n",
              "      <td>0.952756</td>\n",
              "      <td>0.043307</td>\n",
              "      <td>0.003937</td>\n",
              "    </tr>\n",
              "    <tr>\n",
              "      <th>151</th>\n",
              "      <td>0.985915</td>\n",
              "      <td>0.014085</td>\n",
              "      <td>0.000000</td>\n",
              "    </tr>\n",
              "    <tr>\n",
              "      <th>168</th>\n",
              "      <td>0.961783</td>\n",
              "      <td>0.038217</td>\n",
              "      <td>0.000000</td>\n",
              "    </tr>\n",
              "    <tr>\n",
              "      <th>169</th>\n",
              "      <td>0.968254</td>\n",
              "      <td>0.031746</td>\n",
              "      <td>0.000000</td>\n",
              "    </tr>\n",
              "    <tr>\n",
              "      <th>188</th>\n",
              "      <td>0.974811</td>\n",
              "      <td>0.025189</td>\n",
              "      <td>0.000000</td>\n",
              "    </tr>\n",
              "    <tr>\n",
              "      <th>...</th>\n",
              "      <td>...</td>\n",
              "      <td>...</td>\n",
              "      <td>...</td>\n",
              "    </tr>\n",
              "    <tr>\n",
              "      <th>3702</th>\n",
              "      <td>0.617504</td>\n",
              "      <td>0.341977</td>\n",
              "      <td>0.040519</td>\n",
              "    </tr>\n",
              "    <tr>\n",
              "      <th>3895</th>\n",
              "      <td>0.571014</td>\n",
              "      <td>0.397101</td>\n",
              "      <td>0.031884</td>\n",
              "    </tr>\n",
              "    <tr>\n",
              "      <th>3896</th>\n",
              "      <td>0.619403</td>\n",
              "      <td>0.335821</td>\n",
              "      <td>0.044776</td>\n",
              "    </tr>\n",
              "    <tr>\n",
              "      <th>4096</th>\n",
              "      <td>0.584362</td>\n",
              "      <td>0.374486</td>\n",
              "      <td>0.041152</td>\n",
              "    </tr>\n",
              "    <tr>\n",
              "      <th>4097</th>\n",
              "      <td>0.557522</td>\n",
              "      <td>0.424779</td>\n",
              "      <td>0.017699</td>\n",
              "    </tr>\n",
              "  </tbody>\n",
              "</table>\n",
              "<p>71 rows × 3 columns</p>\n",
              "</div>"
            ],
            "text/plain": [
              "Crop_Damage                     0         1         2\n",
              "Estimated_Insects_Count                              \n",
              "150                      0.952756  0.043307  0.003937\n",
              "151                      0.985915  0.014085  0.000000\n",
              "168                      0.961783  0.038217  0.000000\n",
              "169                      0.968254  0.031746  0.000000\n",
              "188                      0.974811  0.025189  0.000000\n",
              "...                           ...       ...       ...\n",
              "3702                     0.617504  0.341977  0.040519\n",
              "3895                     0.571014  0.397101  0.031884\n",
              "3896                     0.619403  0.335821  0.044776\n",
              "4096                     0.584362  0.374486  0.041152\n",
              "4097                     0.557522  0.424779  0.017699\n",
              "\n",
              "[71 rows x 3 columns]"
            ]
          },
          "metadata": {
            "tags": []
          },
          "execution_count": 45
        }
      ]
    },
    {
      "cell_type": "code",
      "metadata": {
        "id": "4xH4sjYea04_",
        "colab_type": "code",
        "colab": {}
      },
      "source": [
        ""
      ],
      "execution_count": null,
      "outputs": []
    },
    {
      "cell_type": "markdown",
      "metadata": {
        "id": "5N1eVik9brEF",
        "colab_type": "text"
      },
      "source": [
        "**RELATIONS BETWEEN FEATURES**"
      ]
    },
    {
      "cell_type": "code",
      "metadata": {
        "id": "YO5TTcYIbuyd",
        "colab_type": "code",
        "colab": {
          "base_uri": "https://localhost:8080/",
          "height": 806
        },
        "outputId": "3b7505e4-af89-493d-cb73-e82603e97785"
      },
      "source": [
        "plt.figure(figsize=(14,12))\n",
        "foo = sns.heatmap(train.drop('ID',axis=1).corr(), vmax=0.6, square=True, annot=True)"
      ],
      "execution_count": null,
      "outputs": [
        {
          "output_type": "display_data",
          "data": {
            "image/png": "[encoded data removed]",
            "text/plain": [
              "<Figure size 1008x864 with 2 Axes>"
            ]
          },
          "metadata": {
            "tags": [],
            "needs_background": "light"
          }
        }
      ]
    },
    {
      "cell_type": "code",
      "metadata": {
        "id": "aH8KO6ZKbyyt",
        "colab_type": "code",
        "colab": {
          "base_uri": "https://localhost:8080/",
          "height": 1000
        },
        "outputId": "dbae8400-d814-49bb-fae2-7a366daa9e15"
      },
      "source": [
        "cols=['Estimated_Insects_Count','Crop_Type','Soil_Type','Pesticide_Use_Category','Number_Doses_Week','Number_Weeks_Quit','Season','Number_Weeks_Used','Crop_Damage']\n",
        "g=sns.pairplot(data=train.dropna(),vars=cols, size=1.5,\n",
        "                 hue='Crop_Damage', palette=['red','blue','green'])\n",
        "g.set(xticklabels=[])"
      ],
      "execution_count": null,
      "outputs": [
        {
          "output_type": "stream",
          "text": [
            "/usr/local/lib/python3.6/dist-packages/seaborn/axisgrid.py:2071: UserWarning: The `size` parameter has been renamed to `height`; please update your code.\n",
            "  warnings.warn(msg, UserWarning)\n",
            "/usr/local/lib/python3.6/dist-packages/seaborn/distributions.py:283: UserWarning: Data must have variance to compute a kernel density estimate.\n",
            "  warnings.warn(msg, UserWarning)\n",
            "/usr/local/lib/python3.6/dist-packages/seaborn/distributions.py:283: UserWarning: Data must have variance to compute a kernel density estimate.\n",
            "  warnings.warn(msg, UserWarning)\n",
            "/usr/local/lib/python3.6/dist-packages/seaborn/distributions.py:283: UserWarning: Data must have variance to compute a kernel density estimate.\n",
            "  warnings.warn(msg, UserWarning)\n"
          ],
          "name": "stderr"
        },
        {
          "output_type": "execute_result",
          "data": {
            "text/plain": [
              "<seaborn.axisgrid.PairGrid at 0x7fcfc0b4a2e8>"
            ]
          },
          "metadata": {
            "tags": []
          },
          "execution_count": 133
        },
        {
          "output_type": "display_data",
          "data": {
            "image/png": "[encoded data removed]",
            "text/plain": [
              "<Figure size 1050.12x972 with 90 Axes>"
            ]
          },
          "metadata": {
            "tags": [],
            "needs_background": "light"
          }
        }
      ]
    },
    {
      "cell_type": "code",
      "metadata": {
        "id": "BWKye8UtcUu9",
        "colab_type": "code",
        "colab": {
          "base_uri": "https://localhost:8080/",
          "height": 51
        },
        "outputId": "25391a99-5b7a-434e-8b0b-047e4114a85a"
      },
      "source": [
        "data['Number_Doses_Week'].unique()"
      ],
      "execution_count": null,
      "outputs": [
        {
          "output_type": "execute_result",
          "data": {
            "text/plain": [
              "array([ 0, 30, 40, 60, 20, 25, 45, 50, 15, 10,  5, 35, 70, 55, 80, 90, 85,\n",
              "       65, 75, 95])"
            ]
          },
          "metadata": {
            "tags": []
          },
          "execution_count": 101
        }
      ]
    },
    {
      "cell_type": "code",
      "metadata": {
        "id": "r1Iv6tEYcVEd",
        "colab_type": "code",
        "colab": {
          "base_uri": "https://localhost:8080/",
          "height": 68
        },
        "outputId": "4a4a39ba-90fb-4b60-8391-2b4617d9cf06"
      },
      "source": [
        "data['Number_Weeks_Quit'].unique()"
      ],
      "execution_count": null,
      "outputs": [
        {
          "output_type": "execute_result",
          "data": {
            "text/plain": [
              "array([ 0,  1,  9,  4, 13,  3, 14,  6,  2, 12, 15, 10,  8, 11,  7,  5, 17,\n",
              "       18, 16, 20, 21, 19, 22, 24, 23, 27, 25, 28, 26, 29, 30, 31, 33, 32,\n",
              "       36, 37, 34, 39, 44, 41, 35, 47, 46, 40, 42, 38, 43, 45, 49, 50, 48])"
            ]
          },
          "metadata": {
            "tags": []
          },
          "execution_count": 102
        }
      ]
    },
    {
      "cell_type": "code",
      "metadata": {
        "id": "ZMcqkr7OcVBw",
        "colab_type": "code",
        "colab": {
          "base_uri": "https://localhost:8080/",
          "height": 102
        },
        "outputId": "7c4605d3-b838-405b-808c-79f794bf0157"
      },
      "source": [
        "data['Number_Weeks_Used'].unique()"
      ],
      "execution_count": null,
      "outputs": [
        {
          "output_type": "execute_result",
          "data": {
            "text/plain": [
              "array([ 0., nan, 26., 20., 15., 14., 19., 24.,  8., 23., 25., 28., 29.,\n",
              "       22., 21., 17., 30., 35., 32., 27., 16., 31., 33., 34., 39., 38.,\n",
              "       42., 40., 41., 36., 44., 37., 46., 45., 47., 43., 50., 10., 49.,\n",
              "       53., 48., 51., 54., 52., 55., 56., 61., 18., 57., 62., 60., 63.,\n",
              "       66., 59., 64., 13.,  7.,  5., 12.,  6.,  9., 58., 11., 65., 67.])"
            ]
          },
          "metadata": {
            "tags": []
          },
          "execution_count": 103
        }
      ]
    },
    {
      "cell_type": "code",
      "metadata": {
        "id": "w6bbdTDDMjru",
        "colab_type": "code",
        "colab": {
          "base_uri": "https://localhost:8080/",
          "height": 136
        },
        "outputId": "25e42929-4e7f-42fd-f499-29f307707ff6"
      },
      "source": [
        "data['Estimated_Insects_Count'].unique()"
      ],
      "execution_count": null,
      "outputs": [
        {
          "output_type": "execute_result",
          "data": {
            "text/plain": [
              "array([ 188,  209,  257,  342,  448,  577,  731, 1132, 1212, 1575, 1785,\n",
              "       2138, 2401, 2999, 3516, 3895, 4096,  150,  151,  168,  232,  231,\n",
              "        256,  283,  312,  311,  375,  411,  410,  488,  489,  531,  626,\n",
              "        625,  677,  732,  789,  790,  851,  850,  915,  916,  984, 1056,\n",
              "       1296, 1297, 1385, 1478, 1576, 1678, 1786, 1898, 2015, 2016, 2139,\n",
              "       2267, 2402, 2542, 2541, 2688, 2687, 2840, 3164, 3165, 3336, 3337,\n",
              "       3702, 3896,  169, 3515, 4097])"
            ]
          },
          "metadata": {
            "tags": []
          },
          "execution_count": 80
        }
      ]
    },
    {
      "cell_type": "code",
      "metadata": {
        "id": "4sKXdb6GcU8V",
        "colab_type": "code",
        "colab": {
          "base_uri": "https://localhost:8080/",
          "height": 204
        },
        "outputId": "62cecb1b-f4ae-425a-eb1d-91222281c1b7"
      },
      "source": [
        "bins = [-1,5,10,15,20,25,30,35,40,45,50]\n",
        "labels = ['0-5','5-10','10-15','15-20','20-25','25-30','30-35','35-40','40-45','45-50']\n",
        "data['NWQ'] = pd.cut(data['Number_Weeks_Quit'], bins=bins, labels=labels)\n",
        "data['NWQ'].value_counts()"
      ],
      "execution_count": 77,
      "outputs": [
        {
          "output_type": "execute_result",
          "data": {
            "text/plain": [
              "0-5      67672\n",
              "10-15    21172\n",
              "5-10     20160\n",
              "15-20    16932\n",
              "20-25    10182\n",
              "25-30     6566\n",
              "30-35     3479\n",
              "35-40     1448\n",
              "40-45      457\n",
              "45-50      100\n",
              "Name: NWQ, dtype: int64"
            ]
          },
          "metadata": {
            "tags": []
          },
          "execution_count": 77
        }
      ]
    },
    {
      "cell_type": "code",
      "metadata": {
        "id": "SwxzBck9ZhhF",
        "colab_type": "code",
        "colab": {
          "base_uri": "https://localhost:8080/",
          "height": 272
        },
        "outputId": "886d05ef-d760-42da-804c-eee424501c1a"
      },
      "source": [
        "#bins = [-1,5,10,15,20,25,30,35,40,45,50,55,60,65,70]\n",
        "#labels = ['0-5','5-10','10-15','15-20','20-25','25-30','30-35','35-40','40-45','45-50','50-55','55-60','60-65','65-70']\n",
        "#data['NWU'] = pd.cut(data['Number_Weeks_Used'], bins=bins, labels=labels)\n",
        "#data['NWU'].value_counts()"
      ],
      "execution_count": null,
      "outputs": [
        {
          "output_type": "execute_result",
          "data": {
            "text/plain": [
              "25-30    15914\n",
              "20-25    15725\n",
              "15-20    15402\n",
              "30-35    13458\n",
              "35-40    12577\n",
              "10-15     9875\n",
              "40-45     8323\n",
              "45-50     6174\n",
              "5-10      4969\n",
              "50-55     3106\n",
              "0-5       1866\n",
              "55-60     1515\n",
              "60-65      368\n",
              "65-70       38\n",
              "Name: NWU, dtype: int64"
            ]
          },
          "metadata": {
            "tags": []
          },
          "execution_count": 6
        }
      ]
    },
    {
      "cell_type": "markdown",
      "metadata": {
        "id": "lvAAlP8ifcrS",
        "colab_type": "text"
      },
      "source": [
        "**FEATURE ENGINEERING**"
      ]
    },
    {
      "cell_type": "code",
      "metadata": {
        "id": "ftHpl7IT6KhM",
        "colab_type": "code",
        "colab": {}
      },
      "source": [
        "data['new_PUC1']=data['Pesticide_Use_Category']==1\n",
        "data['new_PUC2']=data['Pesticide_Use_Category']==2\n",
        "data['new_PUC3']=data['Pesticide_Use_Category']==3"
      ],
      "execution_count": 78,
      "outputs": []
    },
    {
      "cell_type": "code",
      "metadata": {
        "id": "BxkEqdV3A9iD",
        "colab_type": "code",
        "colab": {}
      },
      "source": [
        "data['CP0']=data['Crop_Type']==0\n",
        "data['CP1']=data['Crop_Type']==1"
      ],
      "execution_count": 79,
      "outputs": []
    },
    {
      "cell_type": "code",
      "metadata": {
        "id": "FNdd_nHtBMOM",
        "colab_type": "code",
        "colab": {}
      },
      "source": [
        "data['S1']=data['Season']==1\n",
        "data['S2']=data['Season']==2\n",
        "data['S3']=data['Season']==3"
      ],
      "execution_count": 80,
      "outputs": []
    },
    {
      "cell_type": "code",
      "metadata": {
        "id": "aAsZvczsLeCH",
        "colab_type": "code",
        "colab": {}
      },
      "source": [
        "data['ST0']=data['Soil_Type']==0\n",
        "data['ST1']=data['Soil_Type']==1"
      ],
      "execution_count": 81,
      "outputs": []
    },
    {
      "cell_type": "code",
      "metadata": {
        "id": "Sac5ehziUk89",
        "colab_type": "code",
        "colab": {}
      },
      "source": [
        "data['NWQ'] = data['NWQ'].astype(\"category\")\n",
        "data['NWQ'].cat.categories = [0,1,2,3,4,5,6,7,8,9]"
      ],
      "execution_count": 82,
      "outputs": []
    },
    {
      "cell_type": "code",
      "metadata": {
        "id": "rjbZWafpefQx",
        "colab_type": "code",
        "colab": {}
      },
      "source": [
        "data['ID_value'] = data['ID'].apply(lambda x: x.strip('F')).astype('int')"
      ],
      "execution_count": 83,
      "outputs": []
    },
    {
      "cell_type": "code",
      "metadata": {
        "id": "SH0qjlZOev5W",
        "colab_type": "code",
        "colab": {}
      },
      "source": [
        "data = data.sort_values(['ID_value'])"
      ],
      "execution_count": 84,
      "outputs": []
    },
    {
      "cell_type": "code",
      "metadata": {
        "id": "XWM4VL62e3j-",
        "colab_type": "code",
        "colab": {}
      },
      "source": [
        "data =data.reset_index(drop=True)"
      ],
      "execution_count": 85,
      "outputs": []
    },
    {
      "cell_type": "code",
      "metadata": {
        "id": "aMOy_-CSrhFD",
        "colab_type": "code",
        "colab": {
          "base_uri": "https://localhost:8080/",
          "height": 170
        },
        "outputId": "d4328533-ec22-4eaa-b72b-04ef38dac3ee"
      },
      "source": [
        "# make the loop\n",
        "# the features that we are targeting are - \n",
        "'''\n",
        "1 - Group\n",
        "2 - Group_Change \n",
        "3 - Group_First\n",
        "4 - Group_Last\n",
        "5 - Batch_Last\n",
        "'''\n",
        "\n",
        "# Initialization\n",
        "data['Group'] = 0 \n",
        "data['Group'][0] = 1\n",
        "data['Group_Change'] = 0\n",
        "data['Group_First'] = 0\n",
        "data['Group_Last'] = 0\n",
        "data['Batch_Last'] = 0\n",
        "data['Group_First'][0] = 1\n",
        "data['Soil_Change'] = 0"
      ],
      "execution_count": 87,
      "outputs": [
        {
          "output_type": "stream",
          "text": [
            "/usr/local/lib/python3.6/dist-packages/ipykernel_launcher.py:13: SettingWithCopyWarning: \n",
            "A value is trying to be set on a copy of a slice from a DataFrame\n",
            "\n",
            "See the caveats in the documentation: https://pandas.pydata.org/pandas-docs/stable/user_guide/indexing.html#returning-a-view-versus-a-copy\n",
            "  del sys.path[0]\n",
            "/usr/local/lib/python3.6/dist-packages/ipykernel_launcher.py:18: SettingWithCopyWarning: \n",
            "A value is trying to be set on a copy of a slice from a DataFrame\n",
            "\n",
            "See the caveats in the documentation: https://pandas.pydata.org/pandas-docs/stable/user_guide/indexing.html#returning-a-view-versus-a-copy\n"
          ],
          "name": "stderr"
        }
      ]
    },
    {
      "cell_type": "code",
      "metadata": {
        "id": "OLlhvhcMrg99",
        "colab_type": "code",
        "colab": {}
      },
      "source": [
        ""
      ],
      "execution_count": null,
      "outputs": []
    },
    {
      "cell_type": "code",
      "metadata": {
        "id": "Fmvaqhlorg1_",
        "colab_type": "code",
        "colab": {}
      },
      "source": [
        ""
      ],
      "execution_count": null,
      "outputs": []
    },
    {
      "cell_type": "code",
      "metadata": {
        "id": "sUd51yj3ToTs",
        "colab_type": "code",
        "colab": {
          "base_uri": "https://localhost:8080/",
          "height": 224
        },
        "outputId": "503b3192-99ec-4743-d030-3433bed1b054"
      },
      "source": [
        "data.head()"
      ],
      "execution_count": 88,
      "outputs": [
        {
          "output_type": "execute_result",
          "data": {
            "text/html": [
              "<div>\n",
              "<style scoped>\n",
              "    .dataframe tbody tr th:only-of-type {\n",
              "        vertical-align: middle;\n",
              "    }\n",
              "\n",
              "    .dataframe tbody tr th {\n",
              "        vertical-align: top;\n",
              "    }\n",
              "\n",
              "    .dataframe thead th {\n",
              "        text-align: right;\n",
              "    }\n",
              "</style>\n",
              "<table border=\"1\" class=\"dataframe\">\n",
              "  <thead>\n",
              "    <tr style=\"text-align: right;\">\n",
              "      <th></th>\n",
              "      <th>ID</th>\n",
              "      <th>Estimated_Insects_Count</th>\n",
              "      <th>Crop_Type</th>\n",
              "      <th>Soil_Type</th>\n",
              "      <th>Pesticide_Use_Category</th>\n",
              "      <th>Number_Doses_Week</th>\n",
              "      <th>Number_Weeks_Used</th>\n",
              "      <th>Number_Weeks_Quit</th>\n",
              "      <th>Season</th>\n",
              "      <th>Crop_Damage</th>\n",
              "      <th>source</th>\n",
              "      <th>NWQ</th>\n",
              "      <th>new_PUC1</th>\n",
              "      <th>new_PUC2</th>\n",
              "      <th>new_PUC3</th>\n",
              "      <th>CP0</th>\n",
              "      <th>CP1</th>\n",
              "      <th>S1</th>\n",
              "      <th>S2</th>\n",
              "      <th>S3</th>\n",
              "      <th>ST0</th>\n",
              "      <th>ST1</th>\n",
              "      <th>ID_value</th>\n",
              "      <th>Group</th>\n",
              "      <th>Group_Change</th>\n",
              "      <th>Group_First</th>\n",
              "      <th>Group_Last</th>\n",
              "      <th>Batch_Last</th>\n",
              "      <th>Soil_Change</th>\n",
              "    </tr>\n",
              "  </thead>\n",
              "  <tbody>\n",
              "    <tr>\n",
              "      <th>0</th>\n",
              "      <td>F00000001</td>\n",
              "      <td>188</td>\n",
              "      <td>1</td>\n",
              "      <td>0</td>\n",
              "      <td>1</td>\n",
              "      <td>0</td>\n",
              "      <td>0.0</td>\n",
              "      <td>0</td>\n",
              "      <td>1</td>\n",
              "      <td>0.0</td>\n",
              "      <td>train</td>\n",
              "      <td>0</td>\n",
              "      <td>True</td>\n",
              "      <td>False</td>\n",
              "      <td>False</td>\n",
              "      <td>False</td>\n",
              "      <td>True</td>\n",
              "      <td>True</td>\n",
              "      <td>False</td>\n",
              "      <td>False</td>\n",
              "      <td>True</td>\n",
              "      <td>False</td>\n",
              "      <td>1</td>\n",
              "      <td>1</td>\n",
              "      <td>0</td>\n",
              "      <td>1</td>\n",
              "      <td>0</td>\n",
              "      <td>0</td>\n",
              "      <td>0</td>\n",
              "    </tr>\n",
              "    <tr>\n",
              "      <th>1</th>\n",
              "      <td>F00000002</td>\n",
              "      <td>188</td>\n",
              "      <td>1</td>\n",
              "      <td>1</td>\n",
              "      <td>1</td>\n",
              "      <td>0</td>\n",
              "      <td>-1.0</td>\n",
              "      <td>0</td>\n",
              "      <td>2</td>\n",
              "      <td>NaN</td>\n",
              "      <td>test</td>\n",
              "      <td>0</td>\n",
              "      <td>True</td>\n",
              "      <td>False</td>\n",
              "      <td>False</td>\n",
              "      <td>False</td>\n",
              "      <td>True</td>\n",
              "      <td>False</td>\n",
              "      <td>True</td>\n",
              "      <td>False</td>\n",
              "      <td>False</td>\n",
              "      <td>True</td>\n",
              "      <td>2</td>\n",
              "      <td>0</td>\n",
              "      <td>0</td>\n",
              "      <td>0</td>\n",
              "      <td>0</td>\n",
              "      <td>0</td>\n",
              "      <td>0</td>\n",
              "    </tr>\n",
              "    <tr>\n",
              "      <th>2</th>\n",
              "      <td>F00000003</td>\n",
              "      <td>209</td>\n",
              "      <td>1</td>\n",
              "      <td>0</td>\n",
              "      <td>1</td>\n",
              "      <td>0</td>\n",
              "      <td>0.0</td>\n",
              "      <td>0</td>\n",
              "      <td>2</td>\n",
              "      <td>1.0</td>\n",
              "      <td>train</td>\n",
              "      <td>0</td>\n",
              "      <td>True</td>\n",
              "      <td>False</td>\n",
              "      <td>False</td>\n",
              "      <td>False</td>\n",
              "      <td>True</td>\n",
              "      <td>False</td>\n",
              "      <td>True</td>\n",
              "      <td>False</td>\n",
              "      <td>True</td>\n",
              "      <td>False</td>\n",
              "      <td>3</td>\n",
              "      <td>0</td>\n",
              "      <td>0</td>\n",
              "      <td>0</td>\n",
              "      <td>0</td>\n",
              "      <td>0</td>\n",
              "      <td>0</td>\n",
              "    </tr>\n",
              "    <tr>\n",
              "      <th>3</th>\n",
              "      <td>F00000004</td>\n",
              "      <td>257</td>\n",
              "      <td>1</td>\n",
              "      <td>0</td>\n",
              "      <td>1</td>\n",
              "      <td>0</td>\n",
              "      <td>0.0</td>\n",
              "      <td>0</td>\n",
              "      <td>2</td>\n",
              "      <td>1.0</td>\n",
              "      <td>train</td>\n",
              "      <td>0</td>\n",
              "      <td>True</td>\n",
              "      <td>False</td>\n",
              "      <td>False</td>\n",
              "      <td>False</td>\n",
              "      <td>True</td>\n",
              "      <td>False</td>\n",
              "      <td>True</td>\n",
              "      <td>False</td>\n",
              "      <td>True</td>\n",
              "      <td>False</td>\n",
              "      <td>4</td>\n",
              "      <td>0</td>\n",
              "      <td>0</td>\n",
              "      <td>0</td>\n",
              "      <td>0</td>\n",
              "      <td>0</td>\n",
              "      <td>0</td>\n",
              "    </tr>\n",
              "    <tr>\n",
              "      <th>4</th>\n",
              "      <td>F00000005</td>\n",
              "      <td>257</td>\n",
              "      <td>1</td>\n",
              "      <td>1</td>\n",
              "      <td>1</td>\n",
              "      <td>0</td>\n",
              "      <td>0.0</td>\n",
              "      <td>0</td>\n",
              "      <td>2</td>\n",
              "      <td>1.0</td>\n",
              "      <td>train</td>\n",
              "      <td>0</td>\n",
              "      <td>True</td>\n",
              "      <td>False</td>\n",
              "      <td>False</td>\n",
              "      <td>False</td>\n",
              "      <td>True</td>\n",
              "      <td>False</td>\n",
              "      <td>True</td>\n",
              "      <td>False</td>\n",
              "      <td>False</td>\n",
              "      <td>True</td>\n",
              "      <td>5</td>\n",
              "      <td>0</td>\n",
              "      <td>0</td>\n",
              "      <td>0</td>\n",
              "      <td>0</td>\n",
              "      <td>0</td>\n",
              "      <td>0</td>\n",
              "    </tr>\n",
              "  </tbody>\n",
              "</table>\n",
              "</div>"
            ],
            "text/plain": [
              "          ID  Estimated_Insects_Count  ...  Batch_Last  Soil_Change\n",
              "0  F00000001                      188  ...           0            0\n",
              "1  F00000002                      188  ...           0            0\n",
              "2  F00000003                      209  ...           0            0\n",
              "3  F00000004                      257  ...           0            0\n",
              "4  F00000005                      257  ...           0            0\n",
              "\n",
              "[5 rows x 29 columns]"
            ]
          },
          "metadata": {
            "tags": []
          },
          "execution_count": 88
        }
      ]
    },
    {
      "cell_type": "code",
      "metadata": {
        "id": "tXpyDYqKsZhX",
        "colab_type": "code",
        "colab": {
          "base_uri": "https://localhost:8080/",
          "height": 952
        },
        "outputId": "9d13c625-2356-4f6d-9040-c2857a35947d"
      },
      "source": [
        "#Start loop\n",
        "for i in range(2,data.shape[0]):\n",
        "  if (abs(data['Estimated_Insects_Count'][i] - data['Estimated_Insects_Count'][i-1]) > 1):\n",
        "    data['Group'][i] = data['Group'][i-1] + 1\n",
        "    data['Group_First'][i] = 1\n",
        "    data['Group_Last'][i-1] = 1\n",
        "    data['Batch_Last'][i-1] = 1\n",
        "    data['Group_Num'] = 1\n",
        "  else:\n",
        "    if (data['Number_Doses_Week'][i] >= data['Number_Doses_Week'][i-1]):\n",
        "      if (data['Soil_Type'][i] == data['Soil_Type'][i-1]):\n",
        "        data['Group'][i] =data['Group'][i-1]\n",
        "        data['Group_Num'][i] = data['Group_Num'][i-1] + 1\n",
        "      else:\n",
        "        data['Group'][i] =data['Group'][i-1] + 1\n",
        "        data['Group_Num'] = 1\n",
        "    else:\n",
        "      data['Group'][i] = data['Group'][i-1] + 1\n",
        "      data['Group_Change'][i] = 1\n",
        "      data['Group_First'][i] = 1\n",
        "      data['Group_Last'][i-1] = 1\n",
        "      data['Group'][i] = data['Group'][i-1] + 1\n",
        "  # if (i%1000==0):\n",
        "  #   # print(i,'th iteration completed')"
      ],
      "execution_count": 90,
      "outputs": [
        {
          "output_type": "stream",
          "text": [
            "/usr/local/lib/python3.6/dist-packages/ipykernel_launcher.py:4: SettingWithCopyWarning: \n",
            "A value is trying to be set on a copy of a slice from a DataFrame\n",
            "\n",
            "See the caveats in the documentation: https://pandas.pydata.org/pandas-docs/stable/user_guide/indexing.html#returning-a-view-versus-a-copy\n",
            "  after removing the cwd from sys.path.\n",
            "/usr/local/lib/python3.6/dist-packages/ipykernel_launcher.py:5: SettingWithCopyWarning: \n",
            "A value is trying to be set on a copy of a slice from a DataFrame\n",
            "\n",
            "See the caveats in the documentation: https://pandas.pydata.org/pandas-docs/stable/user_guide/indexing.html#returning-a-view-versus-a-copy\n",
            "  \"\"\"\n",
            "/usr/local/lib/python3.6/dist-packages/ipykernel_launcher.py:6: SettingWithCopyWarning: \n",
            "A value is trying to be set on a copy of a slice from a DataFrame\n",
            "\n",
            "See the caveats in the documentation: https://pandas.pydata.org/pandas-docs/stable/user_guide/indexing.html#returning-a-view-versus-a-copy\n",
            "  \n",
            "/usr/local/lib/python3.6/dist-packages/ipykernel_launcher.py:7: SettingWithCopyWarning: \n",
            "A value is trying to be set on a copy of a slice from a DataFrame\n",
            "\n",
            "See the caveats in the documentation: https://pandas.pydata.org/pandas-docs/stable/user_guide/indexing.html#returning-a-view-versus-a-copy\n",
            "  import sys\n",
            "/usr/local/lib/python3.6/dist-packages/ipykernel_launcher.py:15: SettingWithCopyWarning: \n",
            "A value is trying to be set on a copy of a slice from a DataFrame\n",
            "\n",
            "See the caveats in the documentation: https://pandas.pydata.org/pandas-docs/stable/user_guide/indexing.html#returning-a-view-versus-a-copy\n",
            "  from ipykernel import kernelapp as app\n",
            "/usr/local/lib/python3.6/dist-packages/ipykernel_launcher.py:12: SettingWithCopyWarning: \n",
            "A value is trying to be set on a copy of a slice from a DataFrame\n",
            "\n",
            "See the caveats in the documentation: https://pandas.pydata.org/pandas-docs/stable/user_guide/indexing.html#returning-a-view-versus-a-copy\n",
            "  if sys.path[0] == '':\n",
            "/usr/local/lib/python3.6/dist-packages/ipykernel_launcher.py:13: SettingWithCopyWarning: \n",
            "A value is trying to be set on a copy of a slice from a DataFrame\n",
            "\n",
            "See the caveats in the documentation: https://pandas.pydata.org/pandas-docs/stable/user_guide/indexing.html#returning-a-view-versus-a-copy\n",
            "  del sys.path[0]\n",
            "/usr/local/lib/python3.6/dist-packages/ipykernel_launcher.py:18: SettingWithCopyWarning: \n",
            "A value is trying to be set on a copy of a slice from a DataFrame\n",
            "\n",
            "See the caveats in the documentation: https://pandas.pydata.org/pandas-docs/stable/user_guide/indexing.html#returning-a-view-versus-a-copy\n",
            "/usr/local/lib/python3.6/dist-packages/ipykernel_launcher.py:19: SettingWithCopyWarning: \n",
            "A value is trying to be set on a copy of a slice from a DataFrame\n",
            "\n",
            "See the caveats in the documentation: https://pandas.pydata.org/pandas-docs/stable/user_guide/indexing.html#returning-a-view-versus-a-copy\n",
            "/usr/local/lib/python3.6/dist-packages/ipykernel_launcher.py:20: SettingWithCopyWarning: \n",
            "A value is trying to be set on a copy of a slice from a DataFrame\n",
            "\n",
            "See the caveats in the documentation: https://pandas.pydata.org/pandas-docs/stable/user_guide/indexing.html#returning-a-view-versus-a-copy\n",
            "/usr/local/lib/python3.6/dist-packages/ipykernel_launcher.py:21: SettingWithCopyWarning: \n",
            "A value is trying to be set on a copy of a slice from a DataFrame\n",
            "\n",
            "See the caveats in the documentation: https://pandas.pydata.org/pandas-docs/stable/user_guide/indexing.html#returning-a-view-versus-a-copy\n",
            "/usr/local/lib/python3.6/dist-packages/ipykernel_launcher.py:22: SettingWithCopyWarning: \n",
            "A value is trying to be set on a copy of a slice from a DataFrame\n",
            "\n",
            "See the caveats in the documentation: https://pandas.pydata.org/pandas-docs/stable/user_guide/indexing.html#returning-a-view-versus-a-copy\n"
          ],
          "name": "stderr"
        }
      ]
    },
    {
      "cell_type": "code",
      "metadata": {
        "id": "dr3VYE8ksZZo",
        "colab_type": "code",
        "colab": {
          "base_uri": "https://localhost:8080/",
          "height": 102
        },
        "outputId": "f2311221-69d8-44f1-f387-a25376c8d1ba"
      },
      "source": [
        "\n",
        "for i in range(1,(data.shape[0]-1)):\n",
        "  if(data['Group_Last'][i] == 1 and data['Soil_Type'][i] != data['Soil_Type'][i+1]):\n",
        "    data['Soil_Change'][i] = 1"
      ],
      "execution_count": 91,
      "outputs": [
        {
          "output_type": "stream",
          "text": [
            "/usr/local/lib/python3.6/dist-packages/ipykernel_launcher.py:4: SettingWithCopyWarning: \n",
            "A value is trying to be set on a copy of a slice from a DataFrame\n",
            "\n",
            "See the caveats in the documentation: https://pandas.pydata.org/pandas-docs/stable/user_guide/indexing.html#returning-a-view-versus-a-copy\n",
            "  after removing the cwd from sys.path.\n"
          ],
          "name": "stderr"
        }
      ]
    },
    {
      "cell_type": "code",
      "metadata": {
        "id": "ObnnGP-7sZSR",
        "colab_type": "code",
        "colab": {}
      },
      "source": [
        ""
      ],
      "execution_count": null,
      "outputs": []
    },
    {
      "cell_type": "code",
      "metadata": {
        "id": "U0YPbnTpsZK2",
        "colab_type": "code",
        "colab": {}
      },
      "source": [
        ""
      ],
      "execution_count": null,
      "outputs": []
    },
    {
      "cell_type": "code",
      "metadata": {
        "id": "SZeYUAvpsZDS",
        "colab_type": "code",
        "colab": {}
      },
      "source": [
        ""
      ],
      "execution_count": null,
      "outputs": []
    },
    {
      "cell_type": "code",
      "metadata": {
        "id": "6iYc6-WOsY77",
        "colab_type": "code",
        "colab": {}
      },
      "source": [
        ""
      ],
      "execution_count": null,
      "outputs": []
    },
    {
      "cell_type": "code",
      "metadata": {
        "id": "R0EDvpIFsY0f",
        "colab_type": "code",
        "colab": {}
      },
      "source": [
        ""
      ],
      "execution_count": null,
      "outputs": []
    },
    {
      "cell_type": "code",
      "metadata": {
        "id": "yrVgERIfGXTN",
        "colab_type": "code",
        "colab": {}
      },
      "source": [
        "#data['NWU'] = data['NWU'].astype(\"category\")\n",
        "#data['NWU'].cat.categories = [0,1,2,3,4,5,6,7,8,9,10,11,12,13]"
      ],
      "execution_count": null,
      "outputs": []
    },
    {
      "cell_type": "code",
      "metadata": {
        "id": "ccEdbCFvsXxx",
        "colab_type": "code",
        "colab": {}
      },
      "source": [
        ""
      ],
      "execution_count": null,
      "outputs": []
    },
    {
      "cell_type": "code",
      "metadata": {
        "id": "KC4TdWePYDXu",
        "colab_type": "code",
        "colab": {}
      },
      "source": [
        "#data['Total_num_weeks']=data['Number_Weeks_Used']+ data['Number_Weeks_Quit']"
      ],
      "execution_count": null,
      "outputs": []
    },
    {
      "cell_type": "code",
      "metadata": {
        "id": "4czd2pFSgiKv",
        "colab_type": "code",
        "colab": {}
      },
      "source": [
        "#data['Crop_Damage_lag1'] = data['Crop_Damage_lag1'].fillna((data['Crop_Damage_lag1'].mean()))"
      ],
      "execution_count": 35,
      "outputs": []
    },
    {
      "cell_type": "code",
      "metadata": {
        "id": "MgMLawP5d-ks",
        "colab_type": "code",
        "colab": {}
      },
      "source": [
        "#data['Crop_Damage_lag2'] = data['Crop_Damage_lag2'].fillna((data['Crop_Damage_lag2'].mean()))"
      ],
      "execution_count": 38,
      "outputs": []
    },
    {
      "cell_type": "code",
      "metadata": {
        "id": "PJGsa9bFeECp",
        "colab_type": "code",
        "colab": {}
      },
      "source": [
        "#data['Number_Weeks_Used_lag1'] = data['Number_Weeks_Used_lag1'].fillna((data['Number_Weeks_Used_lag1'].mean()))"
      ],
      "execution_count": 41,
      "outputs": []
    },
    {
      "cell_type": "code",
      "metadata": {
        "id": "_39-uLi-eEaD",
        "colab_type": "code",
        "colab": {}
      },
      "source": [
        "#data['Number_Weeks_Used_lag2'] = data['Number_Weeks_Used_lag2'].fillna((data['Number_Weeks_Used_lag2'].mean()))"
      ],
      "execution_count": 40,
      "outputs": []
    },
    {
      "cell_type": "markdown",
      "metadata": {
        "id": "Fldv7eVJgkKq",
        "colab_type": "text"
      },
      "source": [
        "**MODELLING**"
      ]
    },
    {
      "cell_type": "code",
      "metadata": {
        "id": "om9g91oXcUze",
        "colab_type": "code",
        "colab": {
          "base_uri": "https://localhost:8080/",
          "height": 102
        },
        "outputId": "7315af72-fbfa-4c6e-97be-1332fda7eda0"
      },
      "source": [
        "#Divide into test and train:\n",
        "train_new = data.loc[data['source']==\"train\"]\n",
        "test_new = data.loc[data['source']==\"test\"]\n",
        "#Drop unnecessary columns:\n",
        "test_new.drop(['source'],axis=1,inplace=True)\n",
        "train_new.drop(['source'],axis=1,inplace=True)"
      ],
      "execution_count": 92,
      "outputs": [
        {
          "output_type": "stream",
          "text": [
            "/usr/local/lib/python3.6/dist-packages/pandas/core/frame.py:3997: SettingWithCopyWarning: \n",
            "A value is trying to be set on a copy of a slice from a DataFrame\n",
            "\n",
            "See the caveats in the documentation: https://pandas.pydata.org/pandas-docs/stable/user_guide/indexing.html#returning-a-view-versus-a-copy\n",
            "  errors=errors,\n"
          ],
          "name": "stderr"
        }
      ]
    },
    {
      "cell_type": "code",
      "metadata": {
        "id": "Edeaf_uCgt9G",
        "colab_type": "code",
        "colab": {
          "base_uri": "https://localhost:8080/",
          "height": 224
        },
        "outputId": "f2291121-6b0b-4777-9872-ec8de4abd454"
      },
      "source": [
        "train_new.head()"
      ],
      "execution_count": 93,
      "outputs": [
        {
          "output_type": "execute_result",
          "data": {
            "text/html": [
              "<div>\n",
              "<style scoped>\n",
              "    .dataframe tbody tr th:only-of-type {\n",
              "        vertical-align: middle;\n",
              "    }\n",
              "\n",
              "    .dataframe tbody tr th {\n",
              "        vertical-align: top;\n",
              "    }\n",
              "\n",
              "    .dataframe thead th {\n",
              "        text-align: right;\n",
              "    }\n",
              "</style>\n",
              "<table border=\"1\" class=\"dataframe\">\n",
              "  <thead>\n",
              "    <tr style=\"text-align: right;\">\n",
              "      <th></th>\n",
              "      <th>ID</th>\n",
              "      <th>Estimated_Insects_Count</th>\n",
              "      <th>Crop_Type</th>\n",
              "      <th>Soil_Type</th>\n",
              "      <th>Pesticide_Use_Category</th>\n",
              "      <th>Number_Doses_Week</th>\n",
              "      <th>Number_Weeks_Used</th>\n",
              "      <th>Number_Weeks_Quit</th>\n",
              "      <th>Season</th>\n",
              "      <th>Crop_Damage</th>\n",
              "      <th>NWQ</th>\n",
              "      <th>new_PUC1</th>\n",
              "      <th>new_PUC2</th>\n",
              "      <th>new_PUC3</th>\n",
              "      <th>CP0</th>\n",
              "      <th>CP1</th>\n",
              "      <th>S1</th>\n",
              "      <th>S2</th>\n",
              "      <th>S3</th>\n",
              "      <th>ST0</th>\n",
              "      <th>ST1</th>\n",
              "      <th>ID_value</th>\n",
              "      <th>Group</th>\n",
              "      <th>Group_Change</th>\n",
              "      <th>Group_First</th>\n",
              "      <th>Group_Last</th>\n",
              "      <th>Batch_Last</th>\n",
              "      <th>Soil_Change</th>\n",
              "      <th>Group_Num</th>\n",
              "    </tr>\n",
              "  </thead>\n",
              "  <tbody>\n",
              "    <tr>\n",
              "      <th>0</th>\n",
              "      <td>F00000001</td>\n",
              "      <td>188</td>\n",
              "      <td>1</td>\n",
              "      <td>0</td>\n",
              "      <td>1</td>\n",
              "      <td>0</td>\n",
              "      <td>0.0</td>\n",
              "      <td>0</td>\n",
              "      <td>1</td>\n",
              "      <td>0.0</td>\n",
              "      <td>0</td>\n",
              "      <td>True</td>\n",
              "      <td>False</td>\n",
              "      <td>False</td>\n",
              "      <td>False</td>\n",
              "      <td>True</td>\n",
              "      <td>True</td>\n",
              "      <td>False</td>\n",
              "      <td>False</td>\n",
              "      <td>True</td>\n",
              "      <td>False</td>\n",
              "      <td>1</td>\n",
              "      <td>1</td>\n",
              "      <td>0</td>\n",
              "      <td>1</td>\n",
              "      <td>0</td>\n",
              "      <td>0</td>\n",
              "      <td>0</td>\n",
              "      <td>1</td>\n",
              "    </tr>\n",
              "    <tr>\n",
              "      <th>2</th>\n",
              "      <td>F00000003</td>\n",
              "      <td>209</td>\n",
              "      <td>1</td>\n",
              "      <td>0</td>\n",
              "      <td>1</td>\n",
              "      <td>0</td>\n",
              "      <td>0.0</td>\n",
              "      <td>0</td>\n",
              "      <td>2</td>\n",
              "      <td>1.0</td>\n",
              "      <td>0</td>\n",
              "      <td>True</td>\n",
              "      <td>False</td>\n",
              "      <td>False</td>\n",
              "      <td>False</td>\n",
              "      <td>True</td>\n",
              "      <td>False</td>\n",
              "      <td>True</td>\n",
              "      <td>False</td>\n",
              "      <td>True</td>\n",
              "      <td>False</td>\n",
              "      <td>3</td>\n",
              "      <td>1</td>\n",
              "      <td>0</td>\n",
              "      <td>1</td>\n",
              "      <td>1</td>\n",
              "      <td>1</td>\n",
              "      <td>0</td>\n",
              "      <td>1</td>\n",
              "    </tr>\n",
              "    <tr>\n",
              "      <th>3</th>\n",
              "      <td>F00000004</td>\n",
              "      <td>257</td>\n",
              "      <td>1</td>\n",
              "      <td>0</td>\n",
              "      <td>1</td>\n",
              "      <td>0</td>\n",
              "      <td>0.0</td>\n",
              "      <td>0</td>\n",
              "      <td>2</td>\n",
              "      <td>1.0</td>\n",
              "      <td>0</td>\n",
              "      <td>True</td>\n",
              "      <td>False</td>\n",
              "      <td>False</td>\n",
              "      <td>False</td>\n",
              "      <td>True</td>\n",
              "      <td>False</td>\n",
              "      <td>True</td>\n",
              "      <td>False</td>\n",
              "      <td>True</td>\n",
              "      <td>False</td>\n",
              "      <td>4</td>\n",
              "      <td>2</td>\n",
              "      <td>0</td>\n",
              "      <td>1</td>\n",
              "      <td>0</td>\n",
              "      <td>0</td>\n",
              "      <td>0</td>\n",
              "      <td>1</td>\n",
              "    </tr>\n",
              "    <tr>\n",
              "      <th>4</th>\n",
              "      <td>F00000005</td>\n",
              "      <td>257</td>\n",
              "      <td>1</td>\n",
              "      <td>1</td>\n",
              "      <td>1</td>\n",
              "      <td>0</td>\n",
              "      <td>0.0</td>\n",
              "      <td>0</td>\n",
              "      <td>2</td>\n",
              "      <td>1.0</td>\n",
              "      <td>0</td>\n",
              "      <td>True</td>\n",
              "      <td>False</td>\n",
              "      <td>False</td>\n",
              "      <td>False</td>\n",
              "      <td>True</td>\n",
              "      <td>False</td>\n",
              "      <td>True</td>\n",
              "      <td>False</td>\n",
              "      <td>False</td>\n",
              "      <td>True</td>\n",
              "      <td>5</td>\n",
              "      <td>3</td>\n",
              "      <td>0</td>\n",
              "      <td>0</td>\n",
              "      <td>1</td>\n",
              "      <td>1</td>\n",
              "      <td>1</td>\n",
              "      <td>1</td>\n",
              "    </tr>\n",
              "    <tr>\n",
              "      <th>5</th>\n",
              "      <td>F00000006</td>\n",
              "      <td>342</td>\n",
              "      <td>1</td>\n",
              "      <td>0</td>\n",
              "      <td>1</td>\n",
              "      <td>0</td>\n",
              "      <td>0.0</td>\n",
              "      <td>0</td>\n",
              "      <td>2</td>\n",
              "      <td>1.0</td>\n",
              "      <td>0</td>\n",
              "      <td>True</td>\n",
              "      <td>False</td>\n",
              "      <td>False</td>\n",
              "      <td>False</td>\n",
              "      <td>True</td>\n",
              "      <td>False</td>\n",
              "      <td>True</td>\n",
              "      <td>False</td>\n",
              "      <td>True</td>\n",
              "      <td>False</td>\n",
              "      <td>6</td>\n",
              "      <td>4</td>\n",
              "      <td>0</td>\n",
              "      <td>1</td>\n",
              "      <td>1</td>\n",
              "      <td>1</td>\n",
              "      <td>1</td>\n",
              "      <td>1</td>\n",
              "    </tr>\n",
              "  </tbody>\n",
              "</table>\n",
              "</div>"
            ],
            "text/plain": [
              "          ID  Estimated_Insects_Count  ...  Soil_Change  Group_Num\n",
              "0  F00000001                      188  ...            0          1\n",
              "2  F00000003                      209  ...            0          1\n",
              "3  F00000004                      257  ...            0          1\n",
              "4  F00000005                      257  ...            1          1\n",
              "5  F00000006                      342  ...            1          1\n",
              "\n",
              "[5 rows x 29 columns]"
            ]
          },
          "metadata": {
            "tags": []
          },
          "execution_count": 93
        }
      ]
    },
    {
      "cell_type": "code",
      "metadata": {
        "id": "z1PHTr5rcUtQ",
        "colab_type": "code",
        "colab": {
          "base_uri": "https://localhost:8080/",
          "height": 34
        },
        "outputId": "2b1a5cd8-ac23-4de8-9c1f-91d642737324"
      },
      "source": [
        "from sklearn.model_selection import train_test_split\n",
        "dtrain , dtest = train_test_split(train_new, test_size = 0.2)\n",
        "print(train.shape,dtrain.shape,dtest.shape)"
      ],
      "execution_count": 94,
      "outputs": [
        {
          "output_type": "stream",
          "text": [
            "(88858, 11) (71086, 29) (17772, 29)\n"
          ],
          "name": "stdout"
        }
      ]
    },
    {
      "cell_type": "code",
      "metadata": {
        "id": "N6QbardqhCci",
        "colab_type": "code",
        "colab": {
          "base_uri": "https://localhost:8080/",
          "height": 119
        },
        "outputId": "52d4aa76-2886-4164-ff29-d0c905452573"
      },
      "source": [
        "print(train_new.columns.values)"
      ],
      "execution_count": 95,
      "outputs": [
        {
          "output_type": "stream",
          "text": [
            "['ID' 'Estimated_Insects_Count' 'Crop_Type' 'Soil_Type'\n",
            " 'Pesticide_Use_Category' 'Number_Doses_Week' 'Number_Weeks_Used'\n",
            " 'Number_Weeks_Quit' 'Season' 'Crop_Damage' 'NWQ' 'new_PUC1' 'new_PUC2'\n",
            " 'new_PUC3' 'CP0' 'CP1' 'S1' 'S2' 'S3' 'ST0' 'ST1' 'ID_value' 'Group'\n",
            " 'Group_Change' 'Group_First' 'Group_Last' 'Batch_Last' 'Soil_Change'\n",
            " 'Group_Num']\n"
          ],
          "name": "stdout"
        }
      ]
    },
    {
      "cell_type": "code",
      "metadata": {
        "id": "gOt0jXgNg_yO",
        "colab_type": "code",
        "colab": {}
      },
      "source": [
        "cols = ['Estimated_Insects_Count','Crop_Type','Soil_Type','Number_Doses_Week','NWQ','Season','new_PUC1','new_PUC2','new_PUC3','CP0','CP1','S1','S2','S3','ST0','ST1',\n",
        "        'ID_value','Group','Group_Change' ,'Group_First', 'Group_Last' ,'Batch_Last' ,'Soil_Change','Group_Num',]\n",
        "tcols = np.append(['Crop_Damage'],cols)\n",
        "\n",
        "df = dtrain.loc[:,tcols].dropna()\n",
        "X = df.loc[:,cols]\n",
        "y = df['Crop_Damage']\n"
      ],
      "execution_count": 96,
      "outputs": []
    },
    {
      "cell_type": "code",
      "metadata": {
        "id": "e4bdhnCsdMXf",
        "colab_type": "code",
        "colab": {
          "base_uri": "https://localhost:8080/",
          "height": 34
        },
        "outputId": "ed42dec4-0b3f-43cf-df64-e609ea6418a3"
      },
      "source": [
        "clf_lgb = lgb.LGBMClassifier(\n",
        "    max_depth=2,\n",
        "    n_estimators=500,\n",
        "    subsample=0.5,\n",
        "    learning_rate=0.1\n",
        "    )\n",
        "clf_lgb.fit(X,y)\n",
        "score_lgb = cross_val_score(clf_lgb, X, y, cv=5).mean()\n",
        "print(score_lgb)"
      ],
      "execution_count": 97,
      "outputs": [
        {
          "output_type": "stream",
          "text": [
            "0.9136820167178838\n"
          ],
          "name": "stdout"
        }
      ]
    },
    {
      "cell_type": "code",
      "metadata": {
        "id": "EU14QJWkjvaQ",
        "colab_type": "code",
        "colab": {
          "base_uri": "https://localhost:8080/",
          "height": 34
        },
        "outputId": "7f89c549-1bbe-4122-d620-3777f296cd70"
      },
      "source": [
        "X_train = dtrain.drop(['Number_Weeks_Used','Crop_Damage','ID'], axis=1)\n",
        "Y_train = dtrain[\"Crop_Damage\"]\n",
        "X_test  = dtest.drop(['Number_Weeks_Used','Crop_Damage','ID'], axis=1).copy()\n",
        "X_train.shape, Y_train.shape, X_test.shape"
      ],
      "execution_count": 98,
      "outputs": [
        {
          "output_type": "execute_result",
          "data": {
            "text/plain": [
              "((71086, 26), (71086,), (17772, 26))"
            ]
          },
          "metadata": {
            "tags": []
          },
          "execution_count": 98
        }
      ]
    },
    {
      "cell_type": "code",
      "metadata": {
        "id": "7iVZrSxYkYXc",
        "colab_type": "code",
        "colab": {
          "base_uri": "https://localhost:8080/",
          "height": 476
        },
        "outputId": "3a9790bf-bfbb-48c1-da33-d50ece7f57fc"
      },
      "source": [
        "X_train.isnull().sum()"
      ],
      "execution_count": 99,
      "outputs": [
        {
          "output_type": "execute_result",
          "data": {
            "text/plain": [
              "Estimated_Insects_Count    0\n",
              "Crop_Type                  0\n",
              "Soil_Type                  0\n",
              "Pesticide_Use_Category     0\n",
              "Number_Doses_Week          0\n",
              "Number_Weeks_Quit          0\n",
              "Season                     0\n",
              "NWQ                        0\n",
              "new_PUC1                   0\n",
              "new_PUC2                   0\n",
              "new_PUC3                   0\n",
              "CP0                        0\n",
              "CP1                        0\n",
              "S1                         0\n",
              "S2                         0\n",
              "S3                         0\n",
              "ST0                        0\n",
              "ST1                        0\n",
              "ID_value                   0\n",
              "Group                      0\n",
              "Group_Change               0\n",
              "Group_First                0\n",
              "Group_Last                 0\n",
              "Batch_Last                 0\n",
              "Soil_Change                0\n",
              "Group_Num                  0\n",
              "dtype: int64"
            ]
          },
          "metadata": {
            "tags": []
          },
          "execution_count": 99
        }
      ]
    },
    {
      "cell_type": "code",
      "metadata": {
        "id": "bJSkLWEkwBod",
        "colab_type": "code",
        "colab": {
          "base_uri": "https://localhost:8080/",
          "height": 34
        },
        "outputId": "18a794cc-7908-478e-b2da-76be12f4fe9f"
      },
      "source": [
        "svc = SVC()\n",
        "svc.fit(X_train, Y_train)\n",
        "Y_pred = svc.predict(X_test)\n",
        "acc_svc = round(svc.score(X_train, Y_train) * 100, 2)\n",
        "acc_svc"
      ],
      "execution_count": 100,
      "outputs": [
        {
          "output_type": "execute_result",
          "data": {
            "text/plain": [
              "83.53"
            ]
          },
          "metadata": {
            "tags": []
          },
          "execution_count": 100
        }
      ]
    },
    {
      "cell_type": "markdown",
      "metadata": {
        "id": "gp_76tZ_Ykur",
        "colab_type": "text"
      },
      "source": [
        ""
      ]
    },
    {
      "cell_type": "markdown",
      "metadata": {
        "id": "y1gT6skJmuoV",
        "colab_type": "text"
      },
      "source": [
        "**MODELLING ON TEST SET**"
      ]
    },
    {
      "cell_type": "code",
      "metadata": {
        "id": "2A6zDO_4w_RI",
        "colab_type": "code",
        "colab": {
          "base_uri": "https://localhost:8080/",
          "height": 224
        },
        "outputId": "d44e50ba-0d98-49fb-aa25-cc33715e607e"
      },
      "source": [
        "test_new.head()"
      ],
      "execution_count": 51,
      "outputs": [
        {
          "output_type": "execute_result",
          "data": {
            "text/html": [
              "<div>\n",
              "<style scoped>\n",
              "    .dataframe tbody tr th:only-of-type {\n",
              "        vertical-align: middle;\n",
              "    }\n",
              "\n",
              "    .dataframe tbody tr th {\n",
              "        vertical-align: top;\n",
              "    }\n",
              "\n",
              "    .dataframe thead th {\n",
              "        text-align: right;\n",
              "    }\n",
              "</style>\n",
              "<table border=\"1\" class=\"dataframe\">\n",
              "  <thead>\n",
              "    <tr style=\"text-align: right;\">\n",
              "      <th></th>\n",
              "      <th>ID</th>\n",
              "      <th>Estimated_Insects_Count</th>\n",
              "      <th>Crop_Type</th>\n",
              "      <th>Soil_Type</th>\n",
              "      <th>Pesticide_Use_Category</th>\n",
              "      <th>Number_Doses_Week</th>\n",
              "      <th>Number_Weeks_Used</th>\n",
              "      <th>Number_Weeks_Quit</th>\n",
              "      <th>Season</th>\n",
              "      <th>Crop_Damage</th>\n",
              "      <th>new_PUC1</th>\n",
              "      <th>new_PUC2</th>\n",
              "      <th>new_PUC3</th>\n",
              "      <th>CP0</th>\n",
              "      <th>CP1</th>\n",
              "      <th>S1</th>\n",
              "      <th>S2</th>\n",
              "      <th>S3</th>\n",
              "      <th>ST0</th>\n",
              "      <th>ST1</th>\n",
              "      <th>NWQ</th>\n",
              "      <th>ID_value</th>\n",
              "      <th>Soil_Type_Damage</th>\n",
              "      <th>Estimated_Insects_Count_Damage</th>\n",
              "      <th>Crop_Type_Damage</th>\n",
              "      <th>Pesticide_Use_Category_Damage</th>\n",
              "      <th>Season_Damage</th>\n",
              "      <th>Soil_Type_Damage_lag2</th>\n",
              "      <th>Estimated_Insects_Count_Damage_lag2</th>\n",
              "      <th>Crop_Type_Damage_lag2</th>\n",
              "      <th>Pesticide_Use_Category_Damage_lag2</th>\n",
              "      <th>Season_Damage_lag2</th>\n",
              "      <th>Crop_Damage_lag1</th>\n",
              "      <th>Estimated_Insects_Count_lag1</th>\n",
              "      <th>Crop_Type_lag1</th>\n",
              "      <th>Soil_Type_lag1</th>\n",
              "      <th>Pesticide_Use_Category_lag1</th>\n",
              "      <th>Number_Doses_Week_lag1</th>\n",
              "      <th>Number_Weeks_Used_lag1</th>\n",
              "      <th>Number_Weeks_Quit_lag1</th>\n",
              "      <th>Season_lag1</th>\n",
              "      <th>Crop_Damage_lag2</th>\n",
              "      <th>Estimated_Insects_Count_lag2</th>\n",
              "      <th>Crop_Type_lag2</th>\n",
              "      <th>Soil_Type_lag2</th>\n",
              "      <th>Pesticide_Use_Category_lag2</th>\n",
              "      <th>Number_Doses_Week_lag2</th>\n",
              "      <th>Number_Weeks_Used_lag2</th>\n",
              "      <th>Number_Weeks_Quit_lag2</th>\n",
              "      <th>Season_lag2</th>\n",
              "    </tr>\n",
              "  </thead>\n",
              "  <tbody>\n",
              "    <tr>\n",
              "      <th>1</th>\n",
              "      <td>F00000002</td>\n",
              "      <td>188</td>\n",
              "      <td>1</td>\n",
              "      <td>1</td>\n",
              "      <td>1</td>\n",
              "      <td>0</td>\n",
              "      <td>NaN</td>\n",
              "      <td>0</td>\n",
              "      <td>2</td>\n",
              "      <td>NaN</td>\n",
              "      <td>True</td>\n",
              "      <td>False</td>\n",
              "      <td>False</td>\n",
              "      <td>False</td>\n",
              "      <td>True</td>\n",
              "      <td>False</td>\n",
              "      <td>True</td>\n",
              "      <td>False</td>\n",
              "      <td>False</td>\n",
              "      <td>True</td>\n",
              "      <td>0</td>\n",
              "      <td>2</td>\n",
              "      <td>-999.0</td>\n",
              "      <td>0.0</td>\n",
              "      <td>0.000000</td>\n",
              "      <td>0.00</td>\n",
              "      <td>-999.000000</td>\n",
              "      <td>-999.00</td>\n",
              "      <td>-999.0</td>\n",
              "      <td>-999.00</td>\n",
              "      <td>-999.000000</td>\n",
              "      <td>-999.0</td>\n",
              "      <td>0.00000</td>\n",
              "      <td>188</td>\n",
              "      <td>1</td>\n",
              "      <td>0</td>\n",
              "      <td>1</td>\n",
              "      <td>0</td>\n",
              "      <td>0.0</td>\n",
              "      <td>0</td>\n",
              "      <td>1</td>\n",
              "      <td>-999.000000</td>\n",
              "      <td>-999</td>\n",
              "      <td>1</td>\n",
              "      <td>0</td>\n",
              "      <td>-999</td>\n",
              "      <td>-999</td>\n",
              "      <td>-999.000000</td>\n",
              "      <td>-999</td>\n",
              "      <td>-999</td>\n",
              "    </tr>\n",
              "    <tr>\n",
              "      <th>6</th>\n",
              "      <td>F00000007</td>\n",
              "      <td>410</td>\n",
              "      <td>1</td>\n",
              "      <td>1</td>\n",
              "      <td>1</td>\n",
              "      <td>0</td>\n",
              "      <td>0.0</td>\n",
              "      <td>0</td>\n",
              "      <td>2</td>\n",
              "      <td>NaN</td>\n",
              "      <td>True</td>\n",
              "      <td>False</td>\n",
              "      <td>False</td>\n",
              "      <td>False</td>\n",
              "      <td>True</td>\n",
              "      <td>False</td>\n",
              "      <td>True</td>\n",
              "      <td>False</td>\n",
              "      <td>False</td>\n",
              "      <td>True</td>\n",
              "      <td>0</td>\n",
              "      <td>7</td>\n",
              "      <td>1.0</td>\n",
              "      <td>-999.0</td>\n",
              "      <td>1.000000</td>\n",
              "      <td>1.00</td>\n",
              "      <td>1.000000</td>\n",
              "      <td>-999.00</td>\n",
              "      <td>-999.0</td>\n",
              "      <td>0.75</td>\n",
              "      <td>0.750000</td>\n",
              "      <td>1.0</td>\n",
              "      <td>1.00000</td>\n",
              "      <td>342</td>\n",
              "      <td>1</td>\n",
              "      <td>0</td>\n",
              "      <td>1</td>\n",
              "      <td>0</td>\n",
              "      <td>0.0</td>\n",
              "      <td>0</td>\n",
              "      <td>2</td>\n",
              "      <td>1.000000</td>\n",
              "      <td>257</td>\n",
              "      <td>1</td>\n",
              "      <td>0</td>\n",
              "      <td>1</td>\n",
              "      <td>0</td>\n",
              "      <td>0.000000</td>\n",
              "      <td>0</td>\n",
              "      <td>2</td>\n",
              "    </tr>\n",
              "    <tr>\n",
              "      <th>10</th>\n",
              "      <td>F00000011</td>\n",
              "      <td>626</td>\n",
              "      <td>1</td>\n",
              "      <td>0</td>\n",
              "      <td>1</td>\n",
              "      <td>0</td>\n",
              "      <td>0.0</td>\n",
              "      <td>0</td>\n",
              "      <td>2</td>\n",
              "      <td>NaN</td>\n",
              "      <td>True</td>\n",
              "      <td>False</td>\n",
              "      <td>False</td>\n",
              "      <td>False</td>\n",
              "      <td>True</td>\n",
              "      <td>False</td>\n",
              "      <td>True</td>\n",
              "      <td>False</td>\n",
              "      <td>True</td>\n",
              "      <td>False</td>\n",
              "      <td>0</td>\n",
              "      <td>11</td>\n",
              "      <td>1.0</td>\n",
              "      <td>-999.0</td>\n",
              "      <td>1.250000</td>\n",
              "      <td>1.25</td>\n",
              "      <td>1.000000</td>\n",
              "      <td>0.75</td>\n",
              "      <td>-999.0</td>\n",
              "      <td>1.00</td>\n",
              "      <td>1.000000</td>\n",
              "      <td>1.0</td>\n",
              "      <td>2.00000</td>\n",
              "      <td>577</td>\n",
              "      <td>1</td>\n",
              "      <td>0</td>\n",
              "      <td>1</td>\n",
              "      <td>0</td>\n",
              "      <td>0.0</td>\n",
              "      <td>0</td>\n",
              "      <td>1</td>\n",
              "      <td>1.000000</td>\n",
              "      <td>448</td>\n",
              "      <td>1</td>\n",
              "      <td>0</td>\n",
              "      <td>1</td>\n",
              "      <td>0</td>\n",
              "      <td>28.640825</td>\n",
              "      <td>0</td>\n",
              "      <td>2</td>\n",
              "    </tr>\n",
              "    <tr>\n",
              "      <th>12</th>\n",
              "      <td>F00000013</td>\n",
              "      <td>731</td>\n",
              "      <td>1</td>\n",
              "      <td>0</td>\n",
              "      <td>1</td>\n",
              "      <td>0</td>\n",
              "      <td>0.0</td>\n",
              "      <td>0</td>\n",
              "      <td>2</td>\n",
              "      <td>NaN</td>\n",
              "      <td>True</td>\n",
              "      <td>False</td>\n",
              "      <td>False</td>\n",
              "      <td>False</td>\n",
              "      <td>True</td>\n",
              "      <td>False</td>\n",
              "      <td>True</td>\n",
              "      <td>False</td>\n",
              "      <td>True</td>\n",
              "      <td>False</td>\n",
              "      <td>0</td>\n",
              "      <td>13</td>\n",
              "      <td>1.0</td>\n",
              "      <td>0.0</td>\n",
              "      <td>1.333333</td>\n",
              "      <td>1.00</td>\n",
              "      <td>0.666667</td>\n",
              "      <td>1.25</td>\n",
              "      <td>-999.0</td>\n",
              "      <td>1.25</td>\n",
              "      <td>1.333333</td>\n",
              "      <td>1.0</td>\n",
              "      <td>0.00000</td>\n",
              "      <td>731</td>\n",
              "      <td>0</td>\n",
              "      <td>0</td>\n",
              "      <td>1</td>\n",
              "      <td>0</td>\n",
              "      <td>0.0</td>\n",
              "      <td>0</td>\n",
              "      <td>2</td>\n",
              "      <td>0.168075</td>\n",
              "      <td>626</td>\n",
              "      <td>0</td>\n",
              "      <td>0</td>\n",
              "      <td>1</td>\n",
              "      <td>0</td>\n",
              "      <td>0.000000</td>\n",
              "      <td>0</td>\n",
              "      <td>2</td>\n",
              "    </tr>\n",
              "    <tr>\n",
              "      <th>13</th>\n",
              "      <td>F00000014</td>\n",
              "      <td>789</td>\n",
              "      <td>0</td>\n",
              "      <td>0</td>\n",
              "      <td>1</td>\n",
              "      <td>0</td>\n",
              "      <td>0.0</td>\n",
              "      <td>0</td>\n",
              "      <td>1</td>\n",
              "      <td>NaN</td>\n",
              "      <td>True</td>\n",
              "      <td>False</td>\n",
              "      <td>False</td>\n",
              "      <td>True</td>\n",
              "      <td>False</td>\n",
              "      <td>True</td>\n",
              "      <td>False</td>\n",
              "      <td>False</td>\n",
              "      <td>True</td>\n",
              "      <td>False</td>\n",
              "      <td>0</td>\n",
              "      <td>14</td>\n",
              "      <td>1.0</td>\n",
              "      <td>-999.0</td>\n",
              "      <td>0.666667</td>\n",
              "      <td>1.00</td>\n",
              "      <td>1.000000</td>\n",
              "      <td>1.00</td>\n",
              "      <td>-999.0</td>\n",
              "      <td>1.00</td>\n",
              "      <td>1.000000</td>\n",
              "      <td>0.0</td>\n",
              "      <td>0.17932</td>\n",
              "      <td>731</td>\n",
              "      <td>1</td>\n",
              "      <td>0</td>\n",
              "      <td>1</td>\n",
              "      <td>0</td>\n",
              "      <td>0.0</td>\n",
              "      <td>0</td>\n",
              "      <td>2</td>\n",
              "      <td>0.000000</td>\n",
              "      <td>731</td>\n",
              "      <td>1</td>\n",
              "      <td>0</td>\n",
              "      <td>1</td>\n",
              "      <td>0</td>\n",
              "      <td>0.000000</td>\n",
              "      <td>0</td>\n",
              "      <td>2</td>\n",
              "    </tr>\n",
              "  </tbody>\n",
              "</table>\n",
              "</div>"
            ],
            "text/plain": [
              "           ID  Estimated_Insects_Count  ...  Number_Weeks_Quit_lag2  Season_lag2\n",
              "1   F00000002                      188  ...                    -999         -999\n",
              "6   F00000007                      410  ...                       0            2\n",
              "10  F00000011                      626  ...                       0            2\n",
              "12  F00000013                      731  ...                       0            2\n",
              "13  F00000014                      789  ...                       0            2\n",
              "\n",
              "[5 rows x 50 columns]"
            ]
          },
          "metadata": {
            "tags": []
          },
          "execution_count": 51
        }
      ]
    },
    {
      "cell_type": "code",
      "metadata": {
        "id": "sYsiiO3kwvyv",
        "colab_type": "code",
        "colab": {}
      },
      "source": [
        ""
      ],
      "execution_count": null,
      "outputs": []
    },
    {
      "cell_type": "code",
      "metadata": {
        "id": "OhIRLUf3wvqs",
        "colab_type": "code",
        "colab": {}
      },
      "source": [
        ""
      ],
      "execution_count": null,
      "outputs": []
    },
    {
      "cell_type": "code",
      "metadata": {
        "id": "JlYJvNFnmuQ8",
        "colab_type": "code",
        "colab": {}
      },
      "source": [
        "X_train = dtrain.copy()\n",
        "X_train.drop(['ID','Number_Weeks_Used','Crop_Damage'],axis=1,inplace=True)\n",
        "Y_train =dtrain['Crop_Damage']\n",
        "X_test = test_new.copy()\n",
        "X_test.drop(['ID','Number_Weeks_Used','Crop_Damage'],axis=1,inplace=True)"
      ],
      "execution_count": 53,
      "outputs": []
    },
    {
      "cell_type": "code",
      "metadata": {
        "id": "JwhlPpULIpja",
        "colab_type": "code",
        "colab": {}
      },
      "source": [
        ""
      ],
      "execution_count": null,
      "outputs": []
    },
    {
      "cell_type": "code",
      "metadata": {
        "id": "IP-6fTZk-HaH",
        "colab_type": "code",
        "colab": {
          "base_uri": "https://localhost:8080/",
          "height": 34
        },
        "outputId": "b9b03197-34c4-4fea-fbf8-c5e63e614597"
      },
      "source": [
        "svc = SVC()\n",
        "svc.fit(X_train, Y_train)\n",
        "Y_pred = svc.predict(X_test)\n",
        "acc_svc = round(svc.score(X_train, Y_train) * 100, 2)\n",
        "acc_svc"
      ],
      "execution_count": 54,
      "outputs": [
        {
          "output_type": "execute_result",
          "data": {
            "text/plain": [
              "83.56"
            ]
          },
          "metadata": {
            "tags": []
          },
          "execution_count": 54
        }
      ]
    },
    {
      "cell_type": "code",
      "metadata": {
        "id": "IyEZNUQGkXbq",
        "colab_type": "code",
        "colab": {}
      },
      "source": [
        "sub=pd.read_csv('/content/sample_submission_O1oDc4H.csv')"
      ],
      "execution_count": 55,
      "outputs": []
    },
    {
      "cell_type": "code",
      "metadata": {
        "id": "lwH8ZwoskUwI",
        "colab_type": "code",
        "colab": {
          "base_uri": "https://localhost:8080/",
          "height": 204
        },
        "outputId": "909b2870-831c-4db2-9259-12bc6873552b"
      },
      "source": [
        "sub.head()"
      ],
      "execution_count": 56,
      "outputs": [
        {
          "output_type": "execute_result",
          "data": {
            "text/html": [
              "<div>\n",
              "<style scoped>\n",
              "    .dataframe tbody tr th:only-of-type {\n",
              "        vertical-align: middle;\n",
              "    }\n",
              "\n",
              "    .dataframe tbody tr th {\n",
              "        vertical-align: top;\n",
              "    }\n",
              "\n",
              "    .dataframe thead th {\n",
              "        text-align: right;\n",
              "    }\n",
              "</style>\n",
              "<table border=\"1\" class=\"dataframe\">\n",
              "  <thead>\n",
              "    <tr style=\"text-align: right;\">\n",
              "      <th></th>\n",
              "      <th>ID</th>\n",
              "      <th>Crop_Damage</th>\n",
              "    </tr>\n",
              "  </thead>\n",
              "  <tbody>\n",
              "    <tr>\n",
              "      <th>0</th>\n",
              "      <td>F00000002</td>\n",
              "      <td>1</td>\n",
              "    </tr>\n",
              "    <tr>\n",
              "      <th>1</th>\n",
              "      <td>F00000011</td>\n",
              "      <td>1</td>\n",
              "    </tr>\n",
              "    <tr>\n",
              "      <th>2</th>\n",
              "      <td>F00000014</td>\n",
              "      <td>1</td>\n",
              "    </tr>\n",
              "    <tr>\n",
              "      <th>3</th>\n",
              "      <td>F00000015</td>\n",
              "      <td>1</td>\n",
              "    </tr>\n",
              "    <tr>\n",
              "      <th>4</th>\n",
              "      <td>F00000016</td>\n",
              "      <td>1</td>\n",
              "    </tr>\n",
              "  </tbody>\n",
              "</table>\n",
              "</div>"
            ],
            "text/plain": [
              "          ID  Crop_Damage\n",
              "0  F00000002            1\n",
              "1  F00000011            1\n",
              "2  F00000014            1\n",
              "3  F00000015            1\n",
              "4  F00000016            1"
            ]
          },
          "metadata": {
            "tags": []
          },
          "execution_count": 56
        }
      ]
    },
    {
      "cell_type": "code",
      "metadata": {
        "id": "5u2sWcv0qfWv",
        "colab_type": "code",
        "colab": {}
      },
      "source": [
        "sub['Crop_Damage'] = Y_pred"
      ],
      "execution_count": 57,
      "outputs": []
    },
    {
      "cell_type": "code",
      "metadata": {
        "id": "M8t-blVeqsF_",
        "colab_type": "code",
        "colab": {}
      },
      "source": [
        "sub['Crop_Damage'] = sub['Crop_Damage'].astype(int)"
      ],
      "execution_count": 58,
      "outputs": []
    },
    {
      "cell_type": "code",
      "metadata": {
        "id": "a-6Q5mnJmL9Z",
        "colab_type": "code",
        "colab": {}
      },
      "source": [
        "sub.to_csv(\"analytics.csv\",index=False)"
      ],
      "execution_count": 59,
      "outputs": []
    },
    {
      "cell_type": "code",
      "metadata": {
        "id": "dRPZCTOuqVYC",
        "colab_type": "code",
        "colab": {}
      },
      "source": [
        ""
      ],
      "execution_count": null,
      "outputs": []
    }
  ]
}